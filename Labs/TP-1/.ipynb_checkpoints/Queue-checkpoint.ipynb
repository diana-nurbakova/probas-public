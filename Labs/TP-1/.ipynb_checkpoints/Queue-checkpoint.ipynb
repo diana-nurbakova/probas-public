{
 "cells": [
  {
   "cell_type": "markdown",
   "id": "ad74646c",
   "metadata": {},
   "source": [
    "# Files d'Attente (*Queues* or *Waiting Lines*)"
   ]
  },
  {
   "cell_type": "markdown",
   "id": "0a66a922",
   "metadata": {},
   "source": [
    "**Objectifs :**\n",
    "\n",
    "1. Simulation d'une file d'attente $M/M/1$\n",
    "2. Visualisation de la convergence \n",
    "\n",
    "\n",
    "**Description**\n",
    "\n",
    "Nous disposons de $n$ serveurs répondant aux attentes des clients. Le but est d'étudier le nombre de clients en attente, le temps moyen d'attente, etc. dans le système.\n",
    "\n",
    "Nous ne considérerons ici que des *files d'attentes* dites *PAPS* (Premier Arrivé Premier Servi) ou *FCFS* (First Come First Served) ou *FIFO* (First In First Out), ce qui signiffiee que les clients sont servis dans l'ordre d'arrivée. Il existe des modèles sans cette hypothèse, mais nous ne les aborderons pas ici.\n",
    "\n",
    "**Notation de Kendall**\n",
    "\n",
    "Nous désignerons une file d'attente par la notation $A/B/m$ : \n",
    "* $A$ désigne la loi du temps écoulé entre deux arrivées; \n",
    "* $B$ désigne la loi du temps nécessaire pour répondre au client pour un serveur;\n",
    "* $m$ représente le nombre de serveurs."
   ]
  },
  {
   "cell_type": "markdown",
   "id": "6a6cb019",
   "metadata": {},
   "source": [
    "## Files $M/M/1$"
   ]
  },
  {
   "cell_type": "markdown",
   "id": "d64ac332",
   "metadata": {},
   "source": [
    "Notons $T$ le temps écoulé entre deux arrivées de clients et $D$ la durée de réponse du serveur. Une modélisation classique de ces durées consiste à considérer qu'elles suivent des *lois exponentielles*. Nous supposerons ainsi que $T$ suit une loi $\\mathcal{E}(\\lambda)$ et que $D$ suit une loi $\\mathcal{E}(\\mu)$. Nous supposerons de plus ces deux durées indépendantes. La loi exponentielle étant désignée par la lettre $M$ ($M$ pour **M**arkovien), un tel modèle est appelé un modèle $M/M/1$.\n",
    "\n",
    "Pour rappel :\n",
    "\n",
    "|Nom de la loi|Ensemble des valeurs, $E$|Densité $f(x)$ si $x\\in E$ et 0 sinon| Espérance | Variance |\n",
    "|:-|:-:|:-:|:-:|:-:|\n",
    "|$\\mathcal{E}(\\lambda), \\lambda>0$ | $\\mathbb{R}^+$ | $\\lambda e^{-\\lambda x}$ | $\\frac{1}{\\lambda}$ | $\\frac{1}{\\lambda}$ |\n",
    "\n",
    "Ainsi, les temps moyens d'attente et de service valent $\\frac{1}{\\lambda}$ et $\\frac{1}{\\mu}$ respectivement. Le nombre\n",
    "d'arrivées de clients est alors un *processus de Poisson* et le nombre moyen d'arrivées par unité de temps vaut $\\lambda$. Les paramètres $\\lambda$ et $\\mu$ seront par la suite exprimés en minutes$^{-1}$.\n",
    "\n",
    "Nous sommes alors amenés à étudier une *Chaîne de Markov continue*. Les états de cette chaîne correspondent au nombre de clients dans le système, dans la file d'attente ou en train d'être servi. On représente en général une telle chaîne par le schéma suivant :\n",
    "\n",
    "<img src=\"img/queue-general.png\" width=\"500\">\n",
    "\n",
    "A chaque étape, la longueur de la file varie au maximum de 1\n",
    "\n"
   ]
  },
  {
   "cell_type": "markdown",
   "id": "f87fcce6",
   "metadata": {},
   "source": [
    "Notons une relation entre la *loi de Poisson* et la *loi Exponentielle* :\n",
    "\n",
    "La distribution de Poisson reflète le nombre d'occurrences d'un évènement dans une période de temps, tandis que la distribution exponentielle reflète le temps passé entre ces évènements. "
   ]
  },
  {
   "cell_type": "markdown",
   "id": "3ac381d7",
   "metadata": {},
   "source": [
    "## Question 1. Simulation d'une file d'attente $M/M/1$ "
   ]
  },
  {
   "cell_type": "markdown",
   "id": "56005312",
   "metadata": {},
   "source": [
    "Nous souhaiterions implémenter une fonction `fileMM1` qui retourne l'évolution du système au cours du temps dans un modèle $M/M/1$ pendant un intervalle de temps de durée $d$.\n",
    "\n",
    "Cette fonction aura pour paramètres d'entrée `lam`, `mu`, `d` où :\n",
    "* `lam` est le paramètre de la loi exponentielle des arrivées,\n",
    "* `mu` est le paramètre de la loi exponentielle des départs,\n",
    "* `d` est le temps d'observation de la chaîne.\n",
    "\n",
    "```\n",
    "def fileMM1(lam, mu, d):\n",
    "    \"\"\"\n",
    "    Modélise l'évolution du système au cours du temps comme une file d'attente M/M/1. \n",
    "    \n",
    "    Keyword arguments:\n",
    "    lam --  paramètre de la loi exponentielle des arrivées\n",
    "    mu -- paramètre de la loi exponentielle des départs\n",
    "    d -- temps d'observation de la chaîne\n",
    "    \n",
    "    Return:\n",
    "    un dictionnaire contenant les éléments arrivee et depart reflétant les temps d'arrivées et de sorties des clients du système\n",
    "    \"\"\"\n",
    "```\n",
    "\n",
    "**Quelques astuces et contraintes:**\n",
    "1. Afin de créer une réalisation d'une variable aléatoire qui suit une loi exponentielle, vous pouvez vous servir de [`numpy.random.exponential`](https://numpy.org/doc/stable/reference/random/generated/numpy.random.exponential.html), e.g.:\n",
    "`np.random.exponential(scale=1/5, size=1)` pour le paramètre $\\lambda = 5$. Ici, le paramètre `scale` est l'inverse de $\\lambda$ (rate).\n",
    "2. Vous devez générer un tableau (e.g. `numpy` array) avec les temps d'arrivées et un avec les temps de départs. Les arrivées étant indépendantes des départs, il vous est conseillé de faire un deux temps : 1. créer le tableau des arrivées et 2. créer le tableau des départs.\n",
    "3. Pour construire les départs, deux cas sont à prendre en compte :\n",
    "    * cas 1: soit la personne précédente est déjà partie, alors la requête est traitée tout de suite : *instant de départ = instant d'arrivée + temps de service*\n",
    "    <img src=\"img/depart-case1.png\" width=\"500\">\n",
    "    * cas 2 : soit la personne précédente n'est pas partie, alors le traitement de la requête débute quand elle s'en va : *instant de départ = instant de départ du précédent + temps de service*\n",
    "    <img src=\"img/depart-case2.png\" width=\"500\">\n",
    "4. Aucun temps dans aucun des 2 tableaux ne doit dépasser la durée d'observation $d$.\n",
    "5. Les tableaux des arrivées et des départs étant possiblement de taille différentes, il vous ait demandé de retourner le résultat sous forme d'un dictionnaire, e.g. `queue = {'arrivees': arr, 'departs': dep}` où `arr` et `dep` sont les tableaux des arrivées et départs respectivement."
   ]
  },
  {
   "cell_type": "code",
   "execution_count": 1,
   "id": "3ed0ee4d",
   "metadata": {
    "ExecuteTime": {
     "end_time": "2023-03-13T14:19:15.552844Z",
     "start_time": "2023-03-13T14:19:15.389266Z"
    }
   },
   "outputs": [],
   "source": [
    "import numpy as np"
   ]
  },
  {
   "cell_type": "code",
   "execution_count": 2,
   "id": "5f43f2a6",
   "metadata": {
    "ExecuteTime": {
     "end_time": "2023-03-13T14:19:15.568801Z",
     "start_time": "2023-03-13T14:19:15.553860Z"
    }
   },
   "outputs": [],
   "source": [
    "## CORRECTION\n",
    "def fileMM1(lam, mu, d):\n",
    "    \"\"\"\n",
    "    Modélise l'évolution du système au cours du temps comme une file d'attente M/M/1. \n",
    "\n",
    "    Keyword arguments:\n",
    "    lam --  paramètre de la loi exponentielle des arrivées\n",
    "    mu -- paramètre de la loi exponentielle des départs\n",
    "    d -- temps d'observation de la chaîne\n",
    "\n",
    "    Return:\n",
    "    un dictionnaire contenant les éléments arrivee et depart reflétant les temps d'arrivées et de sorties des clients du système\n",
    "    \"\"\"\n",
    "    \n",
    "    # ARRIVEES \n",
    "    # 1er arrivé\n",
    "    arr = np.random.exponential(scale=1/lam, size=1) # 1 observation selon la loi exp avec rate = lam\n",
    "    ind = 0\n",
    "    \n",
    "    # tant que le temps d n'est pas dépassé\n",
    "    while(arr[ind] < d):\n",
    "        # ajout d'un nouveau élément calculé comme la somme\n",
    "        # le temps d'arrivée du précédent + le temps entre l'arrivée du prochain\n",
    "        delta_time = np.random.exponential(scale=1/lam, size=1)[0] \n",
    "        arr = np.append(arr, arr[ind] + delta_time)\n",
    "        # incremente ind\n",
    "        ind += 1\n",
    "    \n",
    "    # DEPARTS\n",
    "    time_service = np.random.exponential(scale=1/mu, size=len(arr)) # le temps de service pour chaque arrivees\n",
    "    dep = [arr[0] + time_service[0]] # temps de depart du 1er client\n",
    "    ind = 0\n",
    "    \n",
    "    # tant que le temps d n'est pas dépassé\n",
    "    while((dep[ind] < d) and (ind < len(arr))): \n",
    "        ind = ind + 1\n",
    "        # temps de depart de i\n",
    "        dep_temps_i = max(arr[ind], dep[ind-1]) + time_service[ind]\n",
    "        dep = np.append(dep, dep_temps_i)\n",
    "    \n",
    "    # on enleve le dernier car la condition est verifiee quand on a deja depasse d\n",
    "    # il vaut mieux le faire a la fin pour ne pas avoir dep=null au depart\n",
    "    arr = arr[(arr < d)]\n",
    "    dep = dep[(dep < d)]\n",
    "    \n",
    "    # dict contenant des valeurs de temps d'arrivées et de départs\n",
    "    queue = {'arrivees': arr, 'departs': dep} \n",
    "    \n",
    "    return queue"
   ]
  },
  {
   "cell_type": "code",
   "execution_count": 3,
   "id": "3b1b699b",
   "metadata": {
    "ExecuteTime": {
     "end_time": "2023-03-13T14:19:15.600716Z",
     "start_time": "2023-03-13T14:19:15.569797Z"
    }
   },
   "outputs": [
    {
     "data": {
      "text/plain": [
       "{'arrivees': array([ 0.14143243,  0.32347616,  0.34938378,  0.37520579,  0.43309464,\n",
       "         0.65844657,  0.79091421,  0.8607731 ,  0.9227977 ,  1.24037358,\n",
       "         1.35034403,  1.36406373,  1.42830392,  1.58550375,  1.59779079,\n",
       "         1.65131916,  1.65585917,  1.70757166,  1.89567041,  1.92942547,\n",
       "         1.96512467,  2.01481109,  2.07894725,  2.24539857,  2.26638284,\n",
       "         2.32897847,  2.37124322,  2.43601268,  2.47839785,  2.55990249,\n",
       "         2.61007103,  2.62615434,  2.82312093,  2.87953359,  3.08247272,\n",
       "         3.08369069,  3.22091478,  3.33287654,  3.37858486,  3.60555419,\n",
       "         3.74572232,  3.89156774,  3.89477147,  4.05262967,  4.23313173,\n",
       "         4.24447004,  4.47903298,  4.63032576,  4.68568895,  5.09094221,\n",
       "         5.18549181,  5.40411639,  5.65592532,  5.70034144,  5.87234719,\n",
       "         6.22676708,  6.30096372,  6.45209962,  6.66473554,  6.81579206,\n",
       "         6.82671302,  6.83636178,  6.92944183,  6.94110145,  7.11826459,\n",
       "         7.38524199,  7.40303438,  7.51573631,  7.52054244,  7.75951321,\n",
       "         7.84184885,  7.94609952,  8.13011914,  8.1841777 ,  8.19706863,\n",
       "         8.33273948,  8.33761056,  8.47341981,  8.52267883,  8.61885877,\n",
       "         8.86309237,  8.91005097,  9.01063305,  9.05007917,  9.06596012,\n",
       "         9.1394999 ,  9.29205166,  9.33541744,  9.44760178,  9.48828006,\n",
       "         9.51590601,  9.56194819,  9.64971428,  9.65167214,  9.65617723,\n",
       "         9.78572973,  9.8796533 , 10.31478551, 10.37697607, 10.5544401 ,\n",
       "        10.64062711, 10.78883129, 10.94033881, 11.09508846, 11.24956773,\n",
       "        11.50787467, 11.64731601, 11.74699333, 11.82170964, 11.84535376,\n",
       "        11.88672472, 11.99053034]),\n",
       " 'departs': array([ 0.15084744,  0.35882041,  0.37016888,  0.54653132,  0.57140602,\n",
       "         1.23369895,  1.25619984,  1.25733293,  1.27928154,  1.29617637,\n",
       "         1.36246402,  1.38431416,  1.69392324,  1.72669503,  1.77810672,\n",
       "         1.8667487 ,  1.87238384,  1.91509224,  1.91582744,  1.99655057,\n",
       "         2.06817509,  2.06960763,  2.20069558,  2.26041944,  2.26791482,\n",
       "         2.35630143,  2.37967718,  2.45155841,  2.59587028,  2.61779003,\n",
       "         2.63725478,  2.7030437 ,  2.8753607 ,  2.88297563,  3.17037854,\n",
       "         3.19775882,  3.36648016,  3.42081942,  3.49939562,  3.76266141,\n",
       "         3.80743248,  3.92630955,  4.0315338 ,  4.10355901,  4.27852899,\n",
       "         4.36679895,  4.49927492,  4.65339168,  4.68940188,  5.25745197,\n",
       "         5.27647887,  5.46947127,  5.71578852,  5.80559701,  5.91228735,\n",
       "         6.30251729,  6.41329499,  6.46802576,  6.79345079,  6.85128696,\n",
       "         6.87452183,  6.961202  ,  6.98076451,  7.0423387 ,  7.14826121,\n",
       "         7.4905409 ,  7.53805426,  7.54756784,  7.57119321,  7.77305019,\n",
       "         7.98687295,  8.04847652,  8.18205031,  8.38406196,  8.54844321,\n",
       "         8.5971072 ,  8.82615589,  8.87488148,  8.89234279,  9.0790998 ,\n",
       "         9.24573082,  9.30404933,  9.31052907,  9.31109048,  9.3481193 ,\n",
       "         9.36017127,  9.39329801,  9.47873873,  9.65298299,  9.70008491,\n",
       "         9.70182403,  9.72435041,  9.73062252,  9.88307564,  9.97169017,\n",
       "         9.99332456, 10.02037051, 10.35246677, 10.69634288, 10.84528236,\n",
       "        10.89791663, 10.93039144, 10.94705736, 11.10395001, 11.4089819 ,\n",
       "        11.56736267, 11.69629919, 11.78470774, 11.8529822 , 11.93803579,\n",
       "        11.94179183])}"
      ]
     },
     "execution_count": 3,
     "metadata": {},
     "output_type": "execute_result"
    }
   ],
   "source": [
    "test_file = fileMM1(lam=8, mu=15, d=12)\n",
    "test_file"
   ]
  },
  {
   "cell_type": "markdown",
   "id": "52b9390f",
   "metadata": {},
   "source": [
    "## Question 2. Evolution du nombre de clients dans le système "
   ]
  },
  {
   "cell_type": "markdown",
   "id": "c53b0497",
   "metadata": {},
   "source": [
    "### Modélisation du nombre de clients dans le système"
   ]
  },
  {
   "cell_type": "markdown",
   "id": "5f2deacb",
   "metadata": {},
   "source": [
    "Nous souhaitons maintenant modéliser l'évolution du nombre de clients dans le système. \n",
    "\n",
    "Considérons un exemple suivant. La file d'attente est donnée par les temps d'arrivées et départs suivants :\n",
    "\n",
    "<img src=\"img/nb-clients-init-table.png\" width=\"200\">\n",
    "\n",
    "Nous souhaitons étudier le nombre de clients dans le système. En partant du principe du *temps continue*, nous pouvons fixer les instants de temps où il y a un changement dans le système, i.e. une arrivée ou un départ :\n",
    "\n",
    "<img src=\"img/nb-clients-time-axis-init.png\" width=\"800\">\n",
    "\n",
    "Comme indiqué avant, un changement de l'état de système est soit une augmentation du nombre de clients dans le système par 1 ($+1$), soit une diminution du nombre de clients dans le système par 1 ($-1$).\n",
    "\n",
    "Rajoutons ces types de changement sur le graphique :\n",
    "\n",
    "<img src=\"img/nb-clients-time-axis-init-2.png\" width=\"800\">\n",
    "\n",
    "A présent, on peut calculer le nombre de clients dans le système pour chaque instant comme la somme cumulative :\n",
    "\n",
    "<img src=\"img/nb-clients-time-axis.png\" width=\"800\">\n",
    "\n",
    "Autrement dit, on peut construire une table suivante :\n",
    "\n",
    "<img src=\"img/nb-clients-final-table.png\" width=\"700\">\n",
    "\n",
    "\n",
    "Pour la modélisation :\n",
    "\n",
    "1. Vous devez récupérer les résultats de simulation de la file d'attente. A partir de ces données, vous pouvez construire deux tableaux : \n",
    "    - instants de temps de changements $temps$ \n",
    "    - nombre de clients $nb\\_clients$ \n",
    "    tels qu'à chaque instant $temps_i$ on ait $nb\\_clients_i$ clients dans la file.\n",
    "2. Représentez le nombre de clients en fonction du temps.\n",
    "\n",
    "```\n",
    "def evolution(queue):\n",
    "    \"\"\"\n",
    "    Modélise l'évolution du nombre de clients dans la file queue.\n",
    "    \n",
    "    Keyword arguments:\n",
    "    queue -- dictionnaire contenant les temps des arrivées et départs de clients\n",
    "    \n",
    "    Return:\n",
    "    un dictionnaire contenant les instants de temps et le nombre de clients correspondant dans le système\n",
    "    \"\"\"\n",
    "```\n",
    "\n",
    "**Quelques astuces :**\n",
    "\n",
    "1. Quand un client arrive au serveur, le nombre de clients incrémente +1. Quand le traitement d'un client est terminé, le nombre de clients diminue -1.\n",
    "2. Afin de générer un tableau contenant la même valeur plusieurs fois, on peut se servir de la fonction [numpy.repeat](https://numpy.org/doc/stable/reference/generated/numpy.repeat.html), e.g. `np.repeat(1, repeats=10)` va retourner 10 répétitions de la valeur 1.\n",
    "3. Afin de faire un tri d'un tableau en recevant les indices du tableau initial ordonnées selon l'ordre croissant des valeurs correspondantes, on peut utiliser la fonction [numpy.argsort](https://numpy.org/doc/stable/reference/generated/numpy.argsort.html), e.g. `np.argsort(np.array([3, 1, 2]))` va retourner un tableau `[1, 2, 0]`\n",
    "4. Afin de calculer la somme cumulative, on peut utiliser la fonction [numpy.cumsum](https://numpy.org/doc/stable/reference/generated/numpy.cumsum.html), e.g. `np.cumsum(np.array([1, 2, 3, 4]))` va retourner un tableau `array([ 1,  3,  6, 10], dtype=int32)`.\n",
    "5. On considère qu'au début de l'observation, le temps est 0 et le nombre de client est 0.\n",
    "6. Il est également possible de se servir d'un DataFrame, e.g. [`pandas.DataFrame`](https://pandas.pydata.org/docs/reference/api/pandas.DataFrame.html)"
   ]
  },
  {
   "cell_type": "code",
   "execution_count": 4,
   "id": "173cfc43",
   "metadata": {
    "ExecuteTime": {
     "end_time": "2023-03-13T14:19:15.616671Z",
     "start_time": "2023-03-13T14:19:15.602711Z"
    }
   },
   "outputs": [],
   "source": [
    "## CORRECTION\n",
    "def evolution(queue):\n",
    "    \"\"\"\n",
    "    Modélise l'évolution du nombre de clients dans la file queue.\n",
    "\n",
    "    Keyword arguments:\n",
    "    queue -- dictionnaire contenant les temps des arrivées et départs de clients\n",
    "\n",
    "    Return:\n",
    "    un dictionnaire contenant les instants de temps et le nombre de clients correspondant dans le système \n",
    "    \"\"\"\n",
    "    nb_arrivees = len(queue['arrivees']) # nombre de valeurs arrivees\n",
    "    nb_departs = len(queue['departs']) # nombre de valeurs departs\n",
    "    \n",
    "    # merger les instants de temps: les departs apres les arrivees\n",
    "    temps_all = np.append(queue['arrivees'], queue['departs'])\n",
    "    # tri de temps et recuperation des indices\n",
    "    index_sorted = np.argsort(temps_all, kind='quicksort') \n",
    "    # les instants de temps \n",
    "    temps_sorted = temps_all[index_sorted]\n",
    "    \n",
    "    # génération de la séquence de +1 et -1 correspondants aux arrivées et départs \n",
    "    cnt_arrivees = np.repeat(1, nb_arrivees) # arrivees \n",
    "    cnt_departs = np.repeat(-1, nb_departs) # departs\n",
    "    # merger les 2 séquences \n",
    "    cnt = np.append(cnt_arrivees, cnt_departs)\n",
    "    # tri selon les temps d'arrivees / départs \n",
    "    cnt_sorted = cnt[index_sorted]\n",
    "    # calculer la somme cumulative correspondantes à chaque instant de temps \n",
    "    nb_clients = np.cumsum(cnt_sorted)\n",
    "    \n",
    "    # ajout de l'instant de temps 0 \n",
    "    temps_sorted = np.append(0, temps_sorted)\n",
    "    # ajout de nombre de client 0 au moment de temps 0\n",
    "    nb_clients = np.append(0, nb_clients)\n",
    "    \n",
    "    return {'temps' : temps_sorted, 'nb_clients' : nb_clients}"
   ]
  },
  {
   "cell_type": "code",
   "execution_count": 5,
   "id": "191ca252",
   "metadata": {},
   "outputs": [],
   "source": [
    "## CORRECTION 2\n",
    "\n",
    "import pandas as pd\n",
    "\n",
    "def evolution_df(queue):\n",
    "    \"\"\"\n",
    "    Modélise l'évolution du nombre de clients dans la file queue.\n",
    "\n",
    "    Keyword arguments:\n",
    "    queue -- dictionnaire contenant les temps des arrivées et départs de clients\n",
    "\n",
    "    Return:\n",
    "    un dictionnaire contenant les instants de temps et le nombre de clients correspondant dans le système \n",
    "    \"\"\"\n",
    "    nb_arrivees = len(queue['arrivees']) # nombre de valeurs arrivees\n",
    "    nb_departs = len(queue['departs']) # nombre de valeurs departs\n",
    "    \n",
    "    # merger les instants de temps: les departs apres les arrivees\n",
    "    temps_all = np.append(queue['arrivees'], queue['departs'])\n",
    "    \n",
    "    # creer un dataframe\n",
    "    df = pd.DataFrame(temps_all, columns=['temps'])\n",
    "    \n",
    "    # génération de la séquence de +1 et -1 correspondants aux arrivées et départs \n",
    "    cnt_arrivees = np.repeat(1, nb_arrivees) # arrivees \n",
    "    cnt_departs = np.repeat(-1, nb_departs) # departs\n",
    "    # merger les 2 séquences \n",
    "    cnt = np.append(cnt_arrivees, cnt_departs)\n",
    "    \n",
    "    # ajouter une colonne de +1 et -1 correspondant aux arrivées et départs \n",
    "    df['change_state'] = cnt \n",
    "    \n",
    "    # trier le dataframe par rapport au temps\n",
    "    df.sort_values('temps', inplace=True)\n",
    "    \n",
    "    # calculer la somme cumulative correspondantes à chaque instant de temps \n",
    "    df['nb_clients'] = df['change_state'].cumsum()\n",
    "    \n",
    "    # ajout de l'instant de temps 0 \n",
    "    temps_sorted = np.append(0, df['temps'])\n",
    "    # ajout de nombre de client 0 au moment de temps 0\n",
    "    nb_clients = np.append(0, df['nb_clients'])\n",
    "    \n",
    "    return {'temps' : temps_sorted, 'nb_clients' : nb_clients}"
   ]
  },
  {
   "cell_type": "markdown",
   "id": "a606fd9e",
   "metadata": {},
   "source": [
    "### Application et visualisation"
   ]
  },
  {
   "cell_type": "markdown",
   "id": "a1c7975d",
   "metadata": {},
   "source": [
    "Prendre $\\lambda$ et $\\mu$ tels qu'arrivent en moyenne 10 clients par heure et repartent en moyenne 20 clients par heure. Représentez l'évolution du nombre de clients dans le système pendant 12 heures de fonctionnement.\n",
    "\n",
    "Même question avec 14, 20 puis 30 arrivées par heure en moyenne et le même taux de départ. Comparez les résultats obtenus en visualisant le nombre de clients en fonction de temps sur le graphique. Commentez les résultats.\n",
    "\n",
    "Notons que la forme exacte des graphiques dépend de valeurs des variables aléatoires. Pour les questions de reproducibilité,  il est possible de fixez la graine alétoire, e.g. `np.random.seed(seed=10)`.\n",
    "\n",
    "**Remarque :** ceci doit être fait dans la même cellule executable que le code utilisant l'aléatoire. \n",
    "\n",
    "Testez les graines différentes.\n",
    "\n",
    "**Quelques astuces :**\n",
    "* Pensez à sauvegarder les résultats de création des files d'attente et de calcul de nombre de clients dans le système afin de pouvoir utiliser ces données par la suite. Une des façons de faire est d'utiliser un DataFrame. Ce DataFrame pourrait contenir les colonnes suivantes : `lambda`, `mu`, `temps`, `nb_clients`."
   ]
  },
  {
   "cell_type": "code",
   "execution_count": 6,
   "id": "e8a7adb5",
   "metadata": {},
   "outputs": [],
   "source": [
    "import matplotlib.pyplot as plt # graphiques"
   ]
  },
  {
   "cell_type": "code",
   "execution_count": 14,
   "id": "8e7afa42",
   "metadata": {},
   "outputs": [
    {
     "name": "stderr",
     "output_type": "stream",
     "text": [
      "C:\\Users\\dnurb\\AppData\\Local\\Temp\\ipykernel_4360\\276777499.py:14: RuntimeWarning: divide by zero encountered in divide\n",
      "  num_clients_avg = rho / (1 - rho)\n",
      "C:\\Users\\dnurb\\anaconda3\\lib\\site-packages\\matplotlib\\axes\\_base.py:2503: UserWarning: Warning: converting a masked element to nan.\n",
      "  xys = np.asarray(xys)\n"
     ]
    },
    {
     "data": {
      "text/plain": [
       "<matplotlib.legend.Legend at 0x1b90724a7a0>"
      ]
     },
     "execution_count": 14,
     "metadata": {},
     "output_type": "execute_result"
    },
    {
     "data": {
      "image/png": "[encoded data removed]",
      "text/plain": [
       "<Figure size 640x480 with 4 Axes>"
      ]
     },
     "metadata": {},
     "output_type": "display_data"
    }
   ],
   "source": [
    "## CORRECTION\n",
    "np.random.seed(seed=10)\n",
    "\n",
    "lambdas_per_hour = np.array([10, 14, 20, 30])\n",
    "mu_per_hour = 20\n",
    "d_hours = 12\n",
    "\n",
    "# conversion en valeurs par minute\n",
    "lambda_per_min = lambdas_per_hour / 60\n",
    "mu_per_min = mu_per_hour / 60\n",
    "d = d_hours * 60\n",
    "# nb de clients moyen théorique <- pas demandé dans la consigne\n",
    "rho = lambdas_per_hour / mu_per_hour \n",
    "num_clients_avg = rho / (1 - rho)\n",
    "\n",
    "# dataframe pour garder les infos\n",
    "# df_evolution = pd.DataFrame(columns=['lambda', 'mu', 'rho', 'temps', 'nb_clients', 'stationary'])\n",
    "df_evolution = pd.DataFrame(columns=['lambda', 'mu', 'temps', 'nb_clients'])\n",
    "\n",
    "# création de graphiques\n",
    "fig, axs = plt.subplots(int(np.ceil(len(lambda_per_min)/2)), 2)\n",
    "i = 0\n",
    "\n",
    "# rajout de graphique en boucle\n",
    "for l in lambda_per_min:\n",
    "    # file d'attente \n",
    "    qq_i = fileMM1(lam=l, mu=mu_per_min, d=d)\n",
    "    # nb de clients \n",
    "    evol_i = evolution(qq_i)\n",
    "    # plot\n",
    "    ind_0 = int(np.floor(i/2))\n",
    "    ind_1 = i%2\n",
    "    axs[ind_0, ind_1].plot(evol_i['temps'], evol_i['nb_clients'])\n",
    "    axs[ind_0, ind_1].set_title(r'$\\lambda=$' + str(round(l, 2)) + ', $\\mu=$' + str(round(mu_per_min, 2)))\n",
    "    avg = axs[ind_0, ind_1].hlines(y=num_clients_avg[i], xmin=0, xmax=d_hours*60, linestyle = ':', color='#EF9A9A')\n",
    "    \n",
    "    # remplir le dataframe\n",
    "    df_evolution.loc[i, 'lambda'] = l\n",
    "    df_evolution.loc[i, 'mu'] = mu_per_min\n",
    "    # df_evolution.loc[i, 'rho'] = rho[i]\n",
    "    df_evolution.loc[i, 'temps'] = evol_i['temps']\n",
    "    df_evolution.loc[i, 'nb_clients'] = evol_i['nb_clients']\n",
    "      \n",
    "    i = i + 1\n",
    "    \n",
    "avg.set_label('nb clients moyen')\n",
    "\n",
    "for ax in axs.flat:\n",
    "    ax.set(xlabel='Temps, min', ylabel='Nombre de clients')\n",
    "\n",
    "# Hide x labels and tick labels for top plots and y ticks for right plots.\n",
    "for ax in axs.flat:\n",
    "    ax.label_outer()\n",
    "    \n",
    "fig.suptitle(\"Evolution de nombre de clients dans le système\")\n",
    "fig.legend(loc='lower center')"
   ]
  },
  {
   "cell_type": "markdown",
   "id": "1ccf5dff",
   "metadata": {},
   "source": [
    "**Conclusions :**\n",
    "* $\\lambda = 0.17, \\mu = 0.33$ : On constate qu'il y a des variations du nombre de personnes dans la file, mais celles-ci sont raisonnables et \"contrôlées\". On peut déterminer avec quelle probabilité on va avoir un certains nombre de personnes.\n",
    "* $\\lambda = 0.23, \\mu = 0.33$ : le phénomène est moins net. On observe des fluctuations plus importantes. La théorie nous dit que la chaîne converge.\n",
    "* $\\lambda = 0.33, \\mu = 0.33$ : le comportement de la chaîne est difficile à décrire. Selon le seed, le comportement varie beaucoup. Pour seed = 10, on a l'impression qu'alternent des périodes de stabilité (régime convergent) et de divergence (forte augmentation des valeurs). Nous sommes dans un contexte où la chaîne ne converge pas et ne diverge pas. Son comportement ne peut être résumé simplement du point de vue mathématique.\n",
    "* $\\lambda = 0.5, \\mu = 0.33$ : le temps de traitement est trop long et le système ne peut traiter les requêtes dans un déai suffisant avant l'arrivée d'autres clients. La file s'allonge donc et le nombre de personnes tend vers l'infini."
   ]
  },
  {
   "cell_type": "markdown",
   "id": "5589691c",
   "metadata": {},
   "source": [
    "Soit $\\rho = \\lambda / \\mu$ la proportion de temps le serveur est occupé, e.g. :\n",
    "| $\\lambda$ | $\\mu$ | $\\rho$ |\n",
    "| -- | -- | -- |\n",
    "| 0.17 | 0.33 | 0.5 |\n",
    "| 0.23 | 0.33 | 0.7 |\n",
    "| 0.33 | 0.33 | 1 |\n",
    "| 0.5 | 0.33 | 1.5 |\n",
    "\n",
    "La théorie nous dit que dans le cas $\\lambda < \\mu$ il existe **la distribution stationaire** donnée par :\n",
    "$$\\forall i\\in \\mathbb{N}^*, \\pi_i = \\rho^i (1 - \\rho)$$\n",
    "\n",
    "c.à.d. la probabilité d'avoir $i$ clients dans le système.\n",
    "\n",
    "Notons que dans le cas $\\mu > \\lambda$, $\\rho > 1$ et par conséquent, $\\rho^i (1 - \\rho) < 0$. Il ne s'agit plus de la distirbution.\n",
    "\n",
    "On peut estimer le temps que la file d'attente passe dans chaqun des états car cette information est plus \"stable\" que l'évolution du nombre de clients calculée précedemment.\n",
    "\n",
    "1. Calculez $\\rho$ pour chaque paire de valeurs $\\lambda$ et $\\mu$, utilisée dans la question précédente. \n",
    "2. Calculez la distribution stationnaire pour chaque cas. \n",
    "\n",
    "```\n",
    "def calc_stationary(rho, k=20):\n",
    "    \"\"\"\n",
    "    Calcule la distribution stationaire.\n",
    "\n",
    "    Keyword arguments:\n",
    "    rho -- la proportion de temps le serveur est occupé\n",
    "    k   -- le nombre d'états à considérer \n",
    "\n",
    "    Return:\n",
    "    une liste contenant les probabilités (proportion de temps) de rester dans un état \n",
    "    \"\"\"   \n",
    "```\n",
    "\n",
    "3. Calculez la durée des intervalles sans changement de l'état.\n",
    "4. Calculez la proportion de temps que la file d'attente passe dans chaque état. \n",
    "5. Visualisez le résultat sous forme de diagramme en bâton en vous servant de [`plt.bar()`](https://matplotlib.org/stable/api/_as_gen/matplotlib.pyplot.bar.html)\n",
    "6. Qu'est-ce qu'on peut dire de point de vue de convergence, en comparant les résultats avec la distirbution stationnaire ?\n",
    "\n",
    "**Quelques astuces** : \n",
    "1. Afin de calculer le temps passé dans un état, il est nécessaire de considérer la longueur de l'intervalle pendant lequel le système reste sans changer. \n",
    "\n",
    "Reprenons l'exemple précédent. L'histogramme au-dessus représente le nombre de clients dans le système sur les intervals de temps. Un interval de temps est borné par deux évènements de changement de l'état du système. Notons que tout au long d'un interval donné, le nombre de clients présents dans le système reste le même. \n",
    "\n",
    "<img src=\"img/nb-clients-interval.png\" width=\"800\">\n",
    "\n",
    "Pqr exemple, pour calculer la proportion de temps le système passe dans l'état 2, nous devons considérer les intervalles suivants : $[2,3], [7,8], [9,11]$ de la durée totale 4. Ensuite il faudra diviser cette durée totale par le temps total de l'observation du système, ici 15.\n",
    "\n",
    "2. Pour calculer la différence entre deux éléments adjacents dans le tableau, i.e. $out[i] = a[i+1] - a[i]$, on peut utiliser la fonction [numpy.diff](https://numpy.org/doc/stable/reference/generated/numpy.diff.html). Pour le calcul du dernier intervalle, on peut append la durée totale de l'observation du système, i.e. le paramètre `d`.\n"
   ]
  },
  {
   "cell_type": "code",
   "execution_count": 15,
   "id": "5a92b91d",
   "metadata": {},
   "outputs": [
    {
     "name": "stdout",
     "output_type": "stream",
     "text": [
      "     lambda        mu                                              temps  \\\n",
      "0  0.166667  0.333333  [0.0, 8.852606673277094, 8.89752129608193, 8.9...   \n",
      "1  0.233333  0.333333  [0.0, 6.234988870314384, 6.567640802832596, 7....   \n",
      "2  0.333333  0.333333  [0.0, 0.03967989867065971, 0.9855106005749341,...   \n",
      "3       0.5  0.333333  [0.0, 0.008855754660140979, 1.0265645474080252...   \n",
      "\n",
      "                                          nb_clients  rho  \n",
      "0  [0, 1, 0, 1, 2, 1, 0, 1, 2, 1, 2, 3, 2, 1, 2, ...  0.5  \n",
      "1  [0, 1, 0, 1, 0, 1, 2, 1, 2, 1, 0, 1, 2, 1, 0, ...  0.7  \n",
      "2  [0, 1, 0, 1, 2, 3, 2, 3, 4, 3, 2, 1, 0, 1, 0, ...  1.0  \n",
      "3  [0, 1, 0, 1, 2, 1, 2, 1, 2, 3, 2, 3, 2, 1, 2, ...  1.5  \n"
     ]
    }
   ],
   "source": [
    "# CORRECTION\n",
    "\n",
    "# calcul de rho\n",
    "rho = lambdas_per_hour / mu_per_hour \n",
    "df_evolution['rho'] = rho\n",
    "\n",
    "print(df_evolution)"
   ]
  },
  {
   "cell_type": "code",
   "execution_count": 16,
   "id": "fa800a85",
   "metadata": {},
   "outputs": [
    {
     "name": "stdout",
     "output_type": "stream",
     "text": [
      "     lambda        mu                                              temps  \\\n",
      "0  0.166667  0.333333  [0.0, 8.852606673277094, 8.89752129608193, 8.9...   \n",
      "1  0.233333  0.333333  [0.0, 6.234988870314384, 6.567640802832596, 7....   \n",
      "2  0.333333  0.333333  [0.0, 0.03967989867065971, 0.9855106005749341,...   \n",
      "3       0.5  0.333333  [0.0, 0.008855754660140979, 1.0265645474080252...   \n",
      "\n",
      "                                          nb_clients  rho  \\\n",
      "0  [0, 1, 0, 1, 2, 1, 0, 1, 2, 1, 2, 3, 2, 1, 2, ...  0.5   \n",
      "1  [0, 1, 0, 1, 0, 1, 2, 1, 2, 1, 0, 1, 2, 1, 0, ...  0.7   \n",
      "2  [0, 1, 0, 1, 2, 3, 2, 3, 4, 3, 2, 1, 0, 1, 0, ...  1.0   \n",
      "3  [0, 1, 0, 1, 2, 1, 2, 1, 2, 3, 2, 3, 2, 1, 2, ...  1.5   \n",
      "\n",
      "                                          stationary  \n",
      "0  [0.5, 0.25, 0.125, 0.0625, 0.03125, 0.015625, ...  \n",
      "1  [0.30000000000000004, 0.21000000000000002, 0.1...  \n",
      "2  [0.0, 0.0, 0.0, 0.0, 0.0, 0.0, 0.0, 0.0, 0.0, ...  \n",
      "3  [-0.5, -0.75, -1.125, -1.6875, -2.53125, -3.79...  \n"
     ]
    }
   ],
   "source": [
    "# CORRECTION\n",
    "\n",
    "# calcul de distribution stationnaire\n",
    "def calc_stationary(rho, k=20):\n",
    "    \"\"\"\n",
    "    Calcule la distribution stationaire.\n",
    "\n",
    "    Keyword arguments:\n",
    "    rho -- la proportion de temps le serveur est occupé\n",
    "    k   -- le nombre d'états à considérer \n",
    "\n",
    "    Return:\n",
    "    une liste contenant les probabilités (proportion de temps) de rester dans un état \n",
    "    \"\"\"   \n",
    "    # distribution stationnaire\n",
    "    pi = [] \n",
    "    for i in range(0, k):\n",
    "        pi.append(rho**i * (1 - rho))\n",
    "    \n",
    "    return pi\n",
    "\n",
    "df_evolution['stationary'] = df_evolution['rho'].apply(lambda x: calc_stationary(x, k=20))\n",
    "\n",
    "#print(df_evolution)"
   ]
  },
  {
   "cell_type": "code",
   "execution_count": 18,
   "id": "6f0638af",
   "metadata": {},
   "outputs": [
    {
     "name": "stdout",
     "output_type": "stream",
     "text": [
      "     lambda        mu                                              temps  \\\n",
      "0  0.166667  0.333333  [0.0, 8.852606673277094, 8.89752129608193, 8.9...   \n",
      "1  0.233333  0.333333  [0.0, 6.234988870314384, 6.567640802832596, 7....   \n",
      "2  0.333333  0.333333  [0.0, 0.03967989867065971, 0.9855106005749341,...   \n",
      "3       0.5  0.333333  [0.0, 0.008855754660140979, 1.0265645474080252...   \n",
      "\n",
      "                                          nb_clients  rho  \\\n",
      "0  [0, 1, 0, 1, 2, 1, 0, 1, 2, 1, 2, 3, 2, 1, 2, ...  0.5   \n",
      "1  [0, 1, 0, 1, 0, 1, 2, 1, 2, 1, 0, 1, 2, 1, 0, ...  0.7   \n",
      "2  [0, 1, 0, 1, 2, 3, 2, 3, 4, 3, 2, 1, 0, 1, 0, ...  1.0   \n",
      "3  [0, 1, 0, 1, 2, 1, 2, 1, 2, 3, 2, 3, 2, 1, 2, ...  1.5   \n",
      "\n",
      "                                          stationary  \\\n",
      "0  [0.5, 0.25, 0.125, 0.0625, 0.03125, 0.015625, ...   \n",
      "1  [0.30000000000000004, 0.21000000000000002, 0.1...   \n",
      "2  [0.0, 0.0, 0.0, 0.0, 0.0, 0.0, 0.0, 0.0, 0.0, ...   \n",
      "3  [-0.5, -0.75, -1.125, -1.6875, -2.53125, -3.79...   \n",
      "\n",
      "                                            time_ext  \\\n",
      "0  [0.0, 8.852606673277094, 8.89752129608193, 8.9...   \n",
      "1  [0.0, 6.234988870314384, 6.567640802832596, 7....   \n",
      "2  [0.0, 0.03967989867065971, 0.9855106005749341,...   \n",
      "3  [0.0, 0.008855754660140979, 1.0265645474080252...   \n",
      "\n",
      "                                           diff_time  \n",
      "0  [8.852606673277094, 0.0449146228048356, 0.0809...  \n",
      "1  [6.234988870314384, 0.33265193251821223, 1.327...  \n",
      "2  [0.03967989867065971, 0.9458307019042744, 2.30...  \n",
      "3  [0.008855754660140979, 1.0177087927478843, 2.8...  \n"
     ]
    }
   ],
   "source": [
    "# CORRECTION\n",
    "\n",
    "# calcul de la durée des intervalles sans changement\n",
    "df_evolution['time_ext'] = df_evolution['temps'].apply(lambda x: np.append(x, d))\n",
    "df_evolution['diff_time'] = df_evolution['time_ext'].apply(lambda x: np.diff(x, n=1))\n",
    "\n",
    "#print(df_evolution)"
   ]
  },
  {
   "cell_type": "code",
   "execution_count": 20,
   "id": "9fbf3fa2",
   "metadata": {},
   "outputs": [
    {
     "name": "stdout",
     "output_type": "stream",
     "text": [
      "     lambda        mu                                              temps  \\\n",
      "0  0.166667  0.333333  [0.0, 8.852606673277094, 8.89752129608193, 8.9...   \n",
      "1  0.233333  0.333333  [0.0, 6.234988870314384, 6.567640802832596, 7....   \n",
      "2  0.333333  0.333333  [0.0, 0.03967989867065971, 0.9855106005749341,...   \n",
      "3       0.5  0.333333  [0.0, 0.008855754660140979, 1.0265645474080252...   \n",
      "\n",
      "                                          nb_clients  rho  \\\n",
      "0  [0, 1, 0, 1, 2, 1, 0, 1, 2, 1, 2, 3, 2, 1, 2, ...  0.5   \n",
      "1  [0, 1, 0, 1, 0, 1, 2, 1, 2, 1, 0, 1, 2, 1, 0, ...  0.7   \n",
      "2  [0, 1, 0, 1, 2, 3, 2, 3, 4, 3, 2, 1, 0, 1, 0, ...  1.0   \n",
      "3  [0, 1, 0, 1, 2, 1, 2, 1, 2, 3, 2, 3, 2, 1, 2, ...  1.5   \n",
      "\n",
      "                                          stationary  \\\n",
      "0  [0.5, 0.25, 0.125, 0.0625, 0.03125, 0.015625, ...   \n",
      "1  [0.30000000000000004, 0.21000000000000002, 0.1...   \n",
      "2  [0.0, 0.0, 0.0, 0.0, 0.0, 0.0, 0.0, 0.0, 0.0, ...   \n",
      "3  [-0.5, -0.75, -1.125, -1.6875, -2.53125, -3.79...   \n",
      "\n",
      "                                            time_ext  \\\n",
      "0  [0.0, 8.852606673277094, 8.89752129608193, 8.9...   \n",
      "1  [0.0, 6.234988870314384, 6.567640802832596, 7....   \n",
      "2  [0.0, 0.03967989867065971, 0.9855106005749341,...   \n",
      "3  [0.0, 0.008855754660140979, 1.0265645474080252...   \n",
      "\n",
      "                                           diff_time  \\\n",
      "0  [8.852606673277094, 0.0449146228048356, 0.0809...   \n",
      "1  [6.234988870314384, 0.33265193251821223, 1.327...   \n",
      "2  [0.03967989867065971, 0.9458307019042744, 2.30...   \n",
      "3  [0.008855754660140979, 1.0177087927478843, 2.8...   \n",
      "\n",
      "                                      time_per_state  \n",
      "0  {0: 0.45050978154685195, 1: 0.2370624224370355...  \n",
      "1  {0: 0.34690931654909046, 1: 0.2585691539495549...  \n",
      "2  {0: 0.198310348480403, 1: 0.12537682960296678,...  \n",
      "3  {0: 0.003982603538063605, 1: 0.006481178293871...  \n"
     ]
    }
   ],
   "source": [
    "# CORRECTION\n",
    "\n",
    "# calcul de la proportion de temps passé dans chaque état\n",
    "\n",
    "def calc_time_per_state(df):\n",
    "    \"\"\"\n",
    "    Calcule le temps passé dans chaque état.\n",
    "\n",
    "    Keyword arguments:\n",
    "    df -- DataFrame contenant toutes les informations\n",
    "\n",
    "    Return:\n",
    "    le DataFrame initial auquel une nouvelle colonne 'time_per_state' est ajoutée\n",
    "    \"\"\"\n",
    "    list_time = []\n",
    "    # pour chaque configuration\n",
    "    for i in range(0, df.shape[0]):\n",
    "        df_i = df.loc[i]\n",
    "        dff = pd.DataFrame({'temps': df_i['temps'], \n",
    "                            'nb_clients': df_i['nb_clients'], \n",
    "                            'diff_time': df_i['diff_time']})\n",
    "        d = (dff.groupby('nb_clients')['diff_time'].sum()/dff['temps'].max()).to_dict()\n",
    "        list_time.append(d)\n",
    "    \n",
    "    df['time_per_state'] = list_time\n",
    "    \n",
    "    return df\n",
    "\n",
    "# calcul des proportions pour le DataFrame en question\n",
    "df_evolution = calc_time_per_state(df_evolution)\n",
    "\n",
    "#print(df_evolution)"
   ]
  },
  {
   "cell_type": "code",
   "execution_count": 38,
   "id": "75f5b909",
   "metadata": {},
   "outputs": [
    {
     "data": {
      "image/png": "[encoded data removed]",
      "text/plain": [
       "<Figure size 640x480 with 1 Axes>"
      ]
     },
     "metadata": {},
     "output_type": "display_data"
    },
    {
     "data": {
      "image/png": "[encoded data removed]",
      "text/plain": [
       "<Figure size 640x480 with 1 Axes>"
      ]
     },
     "metadata": {},
     "output_type": "display_data"
    }
   ],
   "source": [
    "# CORRECTION \n",
    "\n",
    "# visualisation\n",
    "def get_comparison_barplot(df):\n",
    "    c = '#EF9A9A'\n",
    "    X = list(df['time_per_state'].keys())\n",
    "    r = np.arange(len(X))\n",
    "\n",
    "    width = 0.25\n",
    "    plt.bar(r, height=df['time_per_state'].values(), \n",
    "            width = width, \n",
    "            label = 'Simulation')\n",
    "    plt.bar(r + width, \n",
    "            height = df['stationary'][0:max(df['time_per_state'].keys())+1], \n",
    "            width = width, \n",
    "            label ='Stationary',\n",
    "            color = c\n",
    "           )\n",
    "\n",
    "    plt.xlabel(\"Number of clients in the system\") \n",
    "    plt.ylabel(\"Proportion of time\") \n",
    "    plt.title(f\"Proportion of time spent per state, lambda = {df['lambda'].round(2)}, mu = {round(df['mu'], 2)}\") \n",
    "\n",
    "    plt.xticks(r + width/2, X) \n",
    "    plt.legend() \n",
    "    \n",
    "    plt.show()\n",
    "\n",
    "    return None\n",
    "\n",
    "get_comparison_barplot(df_evolution.loc[0])\n",
    "get_comparison_barplot(df_evolution.loc[1])"
   ]
  },
  {
   "cell_type": "markdown",
   "id": "7e5a80fb",
   "metadata": {},
   "source": [
    "**Conclusions :**\n",
    "* $\\lambda = 0.17, \\mu = 0.33$ : la chaîne converge en probabilité. \n",
    "* $\\lambda = 0.23, \\mu = 0.33$ : le phénomène est moins net. On observe des fluctuations plus importantes. La théorie nous dit que la chaîne converge.\n",
    "* $\\lambda = 0.33, \\mu = 0.33$ : Nous sommes dans un contexte où la chaîne ne converge pas et ne diverge pas. Son comportement ne peut être résumé simplement du point de vue mathématique.\n",
    "* $\\lambda = 0.5, \\mu = 0.33$ : la chaîne diverge"
   ]
  },
  {
   "cell_type": "markdown",
   "id": "dd85ab1b",
   "metadata": {},
   "source": [
    "## Question 3. Formule de Little"
   ]
  },
  {
   "cell_type": "markdown",
   "id": "d9bd2dd4",
   "metadata": {},
   "source": [
    "Remarquons que le nombre moyen d'arrivées dans un intervalle de temps $t$ vaut alors $\\lambda t$ et que le nombre de client qui part durant cet intervalle vaut en moyenne $\\mu t$. L'intensité du traffic sur un serveur peut alors être mesuré par le rapport $\\alpha = \\frac{\\lambda}{\\mu}$. L'unité de mesure associée à cette grandeur est en général le [*Erlang*](https://fr.wikipedia.org/wiki/Erlang_(unit%C3%A9)).\n",
    "\n",
    "Lorsque $\\alpha > 1$, cela signifie qu'il y a en moyenne plus d'arrivées que de départs aux serveurs, donc que la file d'attente s'allonge et finira par saturer. \n",
    "\n",
    "Le cas qui nous intéresse est donc le cas $\\alpha < 1$. Alors le système va se stabiliser ; on dit qu'il admet un régime stationnaire (voir votre cours de probabilités). Décrivons ce régime stationnaire :\n",
    "\n",
    "<img src=\"img/queue-stationary.png\" width=\"500\">\n",
    "\n",
    "Soit $\\pi_i$ la probabilité d'être dans l'état $i$. Alors nous avons $\\lambda \\pi_i = \\mu \\pi_{i+1}$, ou encore $\\pi_{i+1}=\\alpha\\pi_{i}$. Nous reconnaissons une suite géométrique de raison $\\alpha < 1$. La solution est $\\pi_i = \\alpha^i(1-\\alpha)$.\n",
    "\n",
    "Soit $N$ le nombre de clients dans le système. Lorsque le système est stabilisé, $N$ a pour loi $(\\pi_1, ..., \\pi_k, ... )$.\n",
    "Nous avons ainsi : $$\\mathbb{E}(N) = \\sum_i i\\pi_i = \\frac{\\alpha}{1-\\alpha}$$\n",
    "\n",
    "De plus, dans une file $M/M/1$, il existe une relation fondamentale reliant les différentes grandeurs du système. Cette relation est la **formule de Little**. Soit $W$ le temps durant lequel un client reste dans le système. Alors nous avons :\n",
    "$$\\mathbb{E}(N) = \\lambda \\mathbb{E}(W)$$\n",
    "\n",
    "Ceci signifie qu'en moyenne un client restant un laps de temps $\\mathbb{E}(W)$ voit arriver derrière lui $\\lambda\\mathbb{E}(W)$\n",
    "autres clients, avec $\\lambda$ fréquence d'entrée des clients.\n",
    "\n",
    "Ou autrement dit le paramètre $\\lambda$ pourrait être approximé par : \n",
    "$$\\lambda = \\frac{\\mathbb{E}(N)}{\\mathbb{E}(W)}$$"
   ]
  },
  {
   "cell_type": "markdown",
   "id": "fdef630c",
   "metadata": {},
   "source": [
    "### Estimation du temps moyen de présence d'un client dans le système"
   ]
  },
  {
   "cell_type": "markdown",
   "id": "889063a8",
   "metadata": {},
   "source": [
    "Estimez le *temps moyen de présence d'un client dans le système*, $\\mathbb{E}(W)$, c'est-à-dire les temps moyens passés en attente et à être servi, autrement dit la différence de temps de départ et de temps d'arrivée.\n",
    "\n",
    "```\n",
    "def temps_moyens(queue):\n",
    "    \"\"\"\n",
    "    Calcule le temps moyen de présence de clients dans le système. \n",
    "    \n",
    "    Keyword arguments:\n",
    "    queue -- dictionnaire contenant les temps des arrivées et départs de clients\n",
    "\n",
    "    Return:\n",
    "    Le temps moyen\n",
    "    \"\"\"\n",
    "```"
   ]
  },
  {
   "cell_type": "code",
   "execution_count": 39,
   "id": "fb85bc45",
   "metadata": {
    "ExecuteTime": {
     "end_time": "2023-03-13T14:19:17.161879Z",
     "start_time": "2023-03-13T14:19:17.148193Z"
    }
   },
   "outputs": [],
   "source": [
    "## CORRECTION\n",
    "def temps_moyens(queue):\n",
    "    \"\"\"\n",
    "    Calcule le temps moyen de présence de clients dans le système. \n",
    "\n",
    "    Keyword arguments:\n",
    "    queue -- dictionnaire contenant les temps des arrivées et départs de clients\n",
    "\n",
    "    Return:\n",
    "    Le temps moyen\n",
    "    \"\"\"\n",
    "    nb_departs = len(queue['departs']) # nb d'éléments dans departs\n",
    "    diff = queue['departs'] - queue['arrivees'][:nb_departs] # temps de présence dans le système de chaque client\n",
    "    mean_diff = np.mean(diff) # temps moyen de présence\n",
    "    \n",
    "    return mean_diff"
   ]
  },
  {
   "cell_type": "markdown",
   "id": "24e3b7eb",
   "metadata": {},
   "source": [
    "### Estimation du nombre moyen de clients dans le système"
   ]
  },
  {
   "cell_type": "markdown",
   "id": "e8ec3e84",
   "metadata": {},
   "source": [
    "Estimez le nombre moyen de clients $\\mathbb{E}(N)$ dans le système en vous servant de résultats de l'estimation du nombre de clients obtenue avec la fonction `evolution(queue)`. Pensez à prendre en compte la durée pendant laquelle on a ce nombre de clients dans le système.\n",
    "\n",
    "Reprenons l'exemple précédent.  \n",
    "\n",
    "<img src=\"img/nb-clients-interval.png\" width=\"800\">\n",
    "\n",
    "\n",
    "Pour illustrer l'importance de la notion de temps, considérons 2 exemples extrêmes : \n",
    "\n",
    "* Le système $A$ est observé pendant 60 minutes. Un client est arrivé au bout de la première minute, i.e. le temps de son arrivée est 1. Il est parti une minute après, i.e. son temps de départ est 2. \n",
    "* Le système $B$ est observé pendant 60 minutes. Un client est arrivé au bout de la première minute, i.e. le temps de son arrivée est 1. Il est parti 58 minutes après, i.e. son temps de départ est 59.\n",
    "\n",
    "Dans les deux cas ($A$ et $B$) il y avait une arrivée et un départ. Est-ce que pour autant le nombre moyen de clients dans le système est le même ?\n",
    "\n",
    "Dans le premier cas, le client est servi presque instantanément et le reste du temps le système est vide. Donc, en moyenne on pourrait dire que le nombre de client est $1/60 \\approx 0.017$ (proche de 0). \n",
    "\n",
    "Dans le deuxième cas, le service du client a pris presque tout le temps d'observation. On pourrait même dire qu'il y avait toujours qn. Donc, en moyenne le nombre de client est $58/60 \\approx 0.97$ (proche de 1). \n",
    "\n",
    "Implémentez la fonction suivante :\n",
    "\n",
    "```\n",
    "def nombre_moyens(evol):\n",
    "    \"\"\"\n",
    "    Calcule le nombre moyen de clients dans le système. \n",
    "    \n",
    "    Keyword arguments:\n",
    "    evol -- dictionnaire contenant les instants de temps et nombre de clients correspondant\n",
    "\n",
    "    Return:\n",
    "    Le nombre de clients moyen\n",
    "    \"\"\"\n",
    "```\n",
    "\n",
    "**Quelques astuces :**\n",
    "1. Afin de calculer la différence entre deux éléments adjacents dans le tableau, i.e. $out[i] = a[i+1] - a[i]$, on peut utiliser la fonction [numpy.diff](https://numpy.org/doc/stable/reference/generated/numpy.diff.html)"
   ]
  },
  {
   "cell_type": "code",
   "execution_count": 40,
   "id": "244959f1",
   "metadata": {
    "ExecuteTime": {
     "end_time": "2023-03-13T14:19:17.176850Z",
     "start_time": "2023-03-13T14:19:17.165915Z"
    }
   },
   "outputs": [],
   "source": [
    "## CORRECTION \n",
    "def nombre_moyen(evol):\n",
    "    \"\"\"\n",
    "    Calcule le nombre moyen de clients dans le système. \n",
    "    \n",
    "    Keyword arguments:\n",
    "    evol -- dictionnaire contenant les instants de temps et nombre de clients correspondant\n",
    "\n",
    "    Return:\n",
    "    Le nombre de clients moyen\n",
    "    \"\"\"\n",
    "    temps_instants = evol['temps']\n",
    "    # ajout du dernier instant de temps à la fin afin d'assurer \n",
    "    # le calcul de la durée de l'interval de temps pour le dernier instant\n",
    "    temps_instants = np.append(temps_instants, max(temps_instants))\n",
    "    \n",
    "    # calc de la duree des intervals de temps\n",
    "    diff_time = np.diff(temps_instants, n=1)\n",
    "    # nb de clients par interval de temps\n",
    "    nb_clients_interval = evol['nb_clients'] * diff_time \n",
    "    # calcul de la moyenne \n",
    "    nb_client_mean = sum(nb_clients_interval) / max(temps_instants)\n",
    "    \n",
    "    return nb_client_mean"
   ]
  },
  {
   "cell_type": "markdown",
   "id": "f9b72ab9",
   "metadata": {},
   "source": [
    "### Application"
   ]
  },
  {
   "cell_type": "markdown",
   "id": "6410a281",
   "metadata": {},
   "source": [
    "Estimez le nombre moyen de clients dans le système ainsi que le temps de présence d'un client dans le système après 12 heures de fonctionnement en prenant les valeurs de $\\lambda$ et $\\mu$ des questions précédentes. On peut se limiter par les cas convergents. Retrouvez-vous la formule de Little ? Commentez."
   ]
  },
  {
   "cell_type": "code",
   "execution_count": 41,
   "id": "9c1c116d",
   "metadata": {
    "ExecuteTime": {
     "end_time": "2023-03-13T14:19:17.207609Z",
     "start_time": "2023-03-13T14:19:17.177880Z"
    }
   },
   "outputs": [
    {
     "name": "stdout",
     "output_type": "stream",
     "text": [
      "{(0.16666666666666666, 0.3333333333333333, 720): {'lambda': 0.16666666666666666, 'lambda_estime': 0.1464672016447147, 'mu': 0.3333333333333333, 'alpha': 0.5, 'avg_time_estim': 4.333117068175912, 'avg_nb_clients_theorique': 1.0, 'avg_nb_clients_estim': 0.6346595313746762}, (0.23333333333333334, 0.3333333333333333, 720): {'lambda': 0.23333333333333334, 'lambda_estime': 0.23284515062773925, 'mu': 0.3333333333333333, 'alpha': 0.7000000000000001, 'avg_time_estim': 9.953878845846752, 'avg_nb_clients_theorique': 2.333333333333334, 'avg_nb_clients_estim': 2.317712419191454}}\n"
     ]
    }
   ],
   "source": [
    "## CORRECTION\n",
    "dict_little = {}\n",
    "\n",
    "for l in lambda_per_min[0:2]:\n",
    "    # file d'attente \n",
    "    qq_i = fileMM1(lam=l, mu=mu_per_min, d=d)\n",
    "    # nb de clients \n",
    "    evol_i = evolution(qq_i)\n",
    "    \n",
    "    # alpha théorique\n",
    "    alpha = l / mu_per_min\n",
    "    \n",
    "    # temps moyen estimé\n",
    "    meanW = temps_moyens(qq_i)\n",
    "    # nb client moyen estimé\n",
    "    meanN = nombre_moyen(evol_i)\n",
    "    \n",
    "    dict_little[(l, mu_per_min, d)] = {'lambda' : l,\n",
    "                                       'lambda_estime' : meanN / meanW,\n",
    "                                       'mu' : mu_per_min, \n",
    "                                       'alpha' : alpha, \n",
    "                                       'avg_time_estim' : meanW, \n",
    "                                       'avg_nb_clients_theorique' : alpha / (1 - alpha),\n",
    "                                       'avg_nb_clients_estim' : meanN}\n",
    "    \n",
    "print(dict_little)"
   ]
  },
  {
   "cell_type": "code",
   "execution_count": 43,
   "id": "15e93071",
   "metadata": {},
   "outputs": [
    {
     "data": {
      "text/html": [
       "<div>\n",
       "<style scoped>\n",
       "    .dataframe tbody tr th:only-of-type {\n",
       "        vertical-align: middle;\n",
       "    }\n",
       "\n",
       "    .dataframe tbody tr th {\n",
       "        vertical-align: top;\n",
       "    }\n",
       "\n",
       "    .dataframe thead th {\n",
       "        text-align: right;\n",
       "    }\n",
       "</style>\n",
       "<table border=\"1\" class=\"dataframe\">\n",
       "  <thead>\n",
       "    <tr style=\"text-align: right;\">\n",
       "      <th></th>\n",
       "      <th></th>\n",
       "      <th></th>\n",
       "      <th>lambda</th>\n",
       "      <th>lambda_estime</th>\n",
       "      <th>mu</th>\n",
       "      <th>alpha</th>\n",
       "      <th>avg_time_estim</th>\n",
       "      <th>avg_nb_clients_theorique</th>\n",
       "      <th>avg_nb_clients_estim</th>\n",
       "    </tr>\n",
       "  </thead>\n",
       "  <tbody>\n",
       "    <tr>\n",
       "      <th>0.166667</th>\n",
       "      <th>0.333333</th>\n",
       "      <th>720</th>\n",
       "      <td>0.166667</td>\n",
       "      <td>0.146467</td>\n",
       "      <td>0.333333</td>\n",
       "      <td>0.5</td>\n",
       "      <td>4.333117</td>\n",
       "      <td>1.000000</td>\n",
       "      <td>0.634660</td>\n",
       "    </tr>\n",
       "    <tr>\n",
       "      <th>0.233333</th>\n",
       "      <th>0.333333</th>\n",
       "      <th>720</th>\n",
       "      <td>0.233333</td>\n",
       "      <td>0.232845</td>\n",
       "      <td>0.333333</td>\n",
       "      <td>0.7</td>\n",
       "      <td>9.953879</td>\n",
       "      <td>2.333333</td>\n",
       "      <td>2.317712</td>\n",
       "    </tr>\n",
       "  </tbody>\n",
       "</table>\n",
       "</div>"
      ],
      "text/plain": [
       "                         lambda  lambda_estime        mu  alpha  \\\n",
       "0.166667 0.333333 720  0.166667       0.146467  0.333333    0.5   \n",
       "0.233333 0.333333 720  0.233333       0.232845  0.333333    0.7   \n",
       "\n",
       "                       avg_time_estim  avg_nb_clients_theorique  \\\n",
       "0.166667 0.333333 720        4.333117                  1.000000   \n",
       "0.233333 0.333333 720        9.953879                  2.333333   \n",
       "\n",
       "                       avg_nb_clients_estim  \n",
       "0.166667 0.333333 720              0.634660  \n",
       "0.233333 0.333333 720              2.317712  "
      ]
     },
     "execution_count": 43,
     "metadata": {},
     "output_type": "execute_result"
    }
   ],
   "source": [
    "## CORRECTION\n",
    "# sous forme de DataFrame\n",
    "df = pd.DataFrame.from_dict(dict_little, orient='index')\n",
    "\n",
    "df"
   ]
  },
  {
   "cell_type": "markdown",
   "id": "6e63d7b2",
   "metadata": {},
   "source": [
    "**Conclusion :** Pour un relativement petit $d$, on a une forte variabilité de l'estimation de $E(N)$, qui fait que le nombre moyen de personnes estimé est souvent éloigné de la valeur théorique. Mais le ratio $E(N)/E(W)$ est tout de même proche du paramètre $\\lambda$. Pour une durée longue d'observation, on retrouve bien des estimations proches des valeurs théoriques. La formule de Little entre autre est bien vérifiée."
   ]
  },
  {
   "cell_type": "markdown",
   "id": "8ee02175",
   "metadata": {},
   "source": [
    "### Temps d'attente"
   ]
  },
  {
   "cell_type": "markdown",
   "id": "948fe9ab",
   "metadata": {},
   "source": [
    "Nous pouvons affiner un peu l'étude en étudiant aussi le temps passé à attendre dans la file avant d'être servi que nous noterons $W_a$ ou le nombre moyen d'individus dans la file d'attente, non servis, que nous noterons $N_a$. Nous pouvons montrer que :\n",
    "$$\\mathbb{E}(W_a) = \\mathbb{E}(W) - \\frac{1}{\\mu}$$\n",
    "$$\\mathbb{E}(N_a) = \\lambda\\mathbb{E}(W_a)$$"
   ]
  }
 ],
 "metadata": {
  "kernelspec": {
   "display_name": "Python 3 (ipykernel)",
   "language": "python",
   "name": "python3"
  },
  "language_info": {
   "codemirror_mode": {
    "name": "ipython",
    "version": 3
   },
   "file_extension": ".py",
   "mimetype": "text/x-python",
   "name": "python",
   "nbconvert_exporter": "python",
   "pygments_lexer": "ipython3",
   "version": "3.10.13"
  },
  "toc": {
   "base_numbering": 1,
   "nav_menu": {},
   "number_sections": true,
   "sideBar": true,
   "skip_h1_title": false,
   "title_cell": "Table of Contents",
   "title_sidebar": "Contents",
   "toc_cell": false,
   "toc_position": {
    "height": "calc(100% - 180px)",
    "left": "10px",
    "top": "150px",
    "width": "303.837px"
   },
   "toc_section_display": true,
   "toc_window_display": true
  }
 },
 "nbformat": 4,
 "nbformat_minor": 5
}
