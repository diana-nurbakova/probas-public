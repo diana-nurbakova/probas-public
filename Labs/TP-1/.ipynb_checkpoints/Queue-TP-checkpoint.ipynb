{
 "cells": [
  {
   "cell_type": "markdown",
   "id": "ad74646c",
   "metadata": {},
   "source": [
    "# Files d'Attente (*Queues* or *Waiting Lines*)"
   ]
  },
  {
   "cell_type": "markdown",
   "id": "0a66a922",
   "metadata": {},
   "source": [
    "**Objectifs :**\n",
    "\n",
    "1. Simulation d'une file d'attente $M/M/1$\n",
    "2. Visualisation de la convergence \n",
    "\n",
    "\n",
    "**Description**\n",
    "\n",
    "Nous disposons de $n$ serveurs répondant aux attentes des clients. Le but est d'étudier le nombre de clients en attente, le temps moyen d'attente, etc. dans le système.\n",
    "\n",
    "Nous ne considérerons ici que des *files d'attentes* dites *PAPS* (Premier Arrivé Premier Servi) ou *FCFS* (First Come First Served) ou *FIFO* (First In First Out), ce qui signiffiee que les clients sont servis dans l'ordre d'arrivée. Il existe des modèles sans cette hypothèse, mais nous ne les aborderons pas ici.\n",
    "\n",
    "**Notation de Kendall**\n",
    "\n",
    "Nous désignerons une file d'attente par la notation $A/B/m$ : \n",
    "* $A$ désigne la loi du temps écoulé entre deux arrivées; \n",
    "* $B$ désigne la loi du temps nécessaire pour répondre au client pour un serveur;\n",
    "* $m$ représente le nombre de serveurs."
   ]
  },
  {
   "cell_type": "markdown",
   "id": "6a6cb019",
   "metadata": {},
   "source": [
    "## Files $M/M/1$"
   ]
  },
  {
   "cell_type": "markdown",
   "id": "d64ac332",
   "metadata": {},
   "source": [
    "Notons $T$ le temps écoulé entre deux arrivées de clients et $D$ la durée de réponse du serveur. Une modélisation classique de ces durées consiste à considérer qu'elles suivent des *lois exponentielles*. Nous supposerons ainsi que $T$ suit une loi $\\mathcal{E}(\\lambda)$ et que $D$ suit une loi $\\mathcal{E}(\\mu)$. Nous supposerons de plus ces deux durées indépendantes. La loi exponentielle étant désignée par la lettre $M$ ($M$ pour **M**arkovien), un tel modèle est appelé un modèle $M/M/1$.\n",
    "\n",
    "Pour rappel :\n",
    "\n",
    "|Nom de la loi|Ensemble des valeurs, $E$|Densité $f(x)$ si $x\\in E$ et 0 sinon| Espérance | Variance |\n",
    "|:-|:-:|:-:|:-:|:-:|\n",
    "|$\\mathcal{E}(\\lambda), \\lambda>0$ | $\\mathbb{R}^+$ | $\\lambda e^{-\\lambda x}$ | $\\frac{1}{\\lambda}$ | $\\frac{1}{\\lambda}$ |\n",
    "\n",
    "Ainsi, les temps moyens d'attente et de service valent $\\frac{1}{\\lambda}$ et $\\frac{1}{\\mu}$ respectivement. Le nombre\n",
    "d'arrivées de clients est alors un *processus de Poisson* et le nombre moyen d'arrivées par unité de temps vaut $\\lambda$. Les paramètres $\\lambda$ et $\\mu$ seront par la suite exprimés en minutes$^{-1}$.\n",
    "\n",
    "Nous sommes alors amenés à étudier une *Chaîne de Markov continue*. Les états de cette chaîne correspondent au nombre de clients dans le système, dans la file d'attente ou en train d'être servi. On représente en général une telle chaîne par le schéma suivant :\n",
    "\n",
    "<img src=\"img/queue-general.png\" width=\"500\">\n",
    "\n",
    "A chaque étape, la longueur de la file varie au maximum de 1\n",
    "\n"
   ]
  },
  {
   "cell_type": "markdown",
   "id": "f87fcce6",
   "metadata": {},
   "source": [
    "Notons une relation entre la *loi de Poisson* et la *loi Exponentielle* :\n",
    "\n",
    "La distribution de Poisson reflète le nombre d'occurrences d'un évènement dans une période de temps, tandis que la distribution exponentielle reflète le temps passé entre ces évènements. "
   ]
  },
  {
   "cell_type": "markdown",
   "id": "3ac381d7",
   "metadata": {},
   "source": [
    "## Question 1. Simulation d'une file d'attente $M/M/1$ "
   ]
  },
  {
   "cell_type": "markdown",
   "id": "56005312",
   "metadata": {},
   "source": [
    "Nous souhaiterions implémenter une fonction `fileMM1` qui retourne l'évolution du système au cours du temps dans un modèle $M/M/1$ pendant un intervalle de temps de durée $d$.\n",
    "\n",
    "Cette fonction aura pour paramètres d'entrée `lam`, `mu`, `d` où :\n",
    "* `lam` est le paramètre de la loi exponentielle des arrivées,\n",
    "* `mu` est le paramètre de la loi exponentielle des départs,\n",
    "* `d` est le temps d'observation de la chaîne.\n",
    "\n",
    "```\n",
    "def fileMM1(lam, mu, d):\n",
    "    \"\"\"\n",
    "    Modélise l'évolution du système au cours du temps comme une file d'attente M/M/1. \n",
    "    \n",
    "    Keyword arguments:\n",
    "    lam --  paramètre de la loi exponentielle des arrivées\n",
    "    mu -- paramètre de la loi exponentielle des départs\n",
    "    d -- temps d'observation de la chaîne\n",
    "    \n",
    "    Return:\n",
    "    un dictionnaire contenant les éléments arrivee et depart reflétant les temps d'arrivées et de sorties des clients du système\n",
    "    \"\"\"\n",
    "```\n",
    "\n",
    "**Quelques astuces et contraintes:**\n",
    "1. Afin de créer une réalisation d'une variable aléatoire qui suit une loi exponentielle, vous pouvez vous servir de [`numpy.random.exponential`](https://numpy.org/doc/stable/reference/random/generated/numpy.random.exponential.html), e.g.:\n",
    "`np.random.exponential(scale=1/5, size=1)` pour le paramètre $\\lambda = 5$. Ici, le paramètre `scale` est l'inverse de $\\lambda$ (rate).\n",
    "2. Vous devez générer un tableau (e.g. `numpy` array) avec les temps d'arrivées et un avec les temps de départs. Les arrivées étant indépendantes des départs, il vous est conseillé de faire un deux temps : 1. créer le tableau des arrivées et 2. créer le tableau des départs.\n",
    "3. Pour construire les départs, deux cas sont à prendre en compte :\n",
    "    * cas 1: soit la personne précédente est déjà partie, alors la requête est traitée tout de suite : *instant de départ = instant d'arrivée + temps de service*\n",
    "    <img src=\"img/depart-case1.png\" width=\"500\">\n",
    "    * cas 2 : soit la personne précédente n'est pas partie, alors le traitement de la requête débute quand elle s'en va : *instant de départ = instant de départ du précédent + temps de service*\n",
    "    <img src=\"img/depart-case2.png\" width=\"500\">\n",
    "4. Aucun temps dans aucun des 2 tableaux ne doit dépasser la durée d'observation $d$.\n",
    "5. Les tableaux des arrivées et des départs étant possiblement de taille différentes, il vous ait demandé de retourner le résultat sous forme d'un dictionnaire, e.g. `queue = {'arrivees': arr, 'departs': dep}` où `arr` et `dep` sont les tableaux des arrivées et départs respectivement."
   ]
  },
  {
   "cell_type": "code",
   "execution_count": null,
   "id": "3ed0ee4d",
   "metadata": {
    "ExecuteTime": {
     "end_time": "2023-03-13T14:19:15.552844Z",
     "start_time": "2023-03-13T14:19:15.389266Z"
    }
   },
   "outputs": [],
   "source": [
    "import numpy as np # calcul numérique\n",
    "import matplotlib.pyplot as plt # graphiques\n",
    "import pandas as pd # DataFrame"
   ]
  },
  {
   "cell_type": "code",
   "execution_count": null,
   "id": "5f43f2a6",
   "metadata": {
    "ExecuteTime": {
     "end_time": "2023-03-13T14:19:15.568801Z",
     "start_time": "2023-03-13T14:19:15.553860Z"
    }
   },
   "outputs": [],
   "source": [
    "## Donnez votre code ici\n"
   ]
  },
  {
   "cell_type": "markdown",
   "id": "52b9390f",
   "metadata": {},
   "source": [
    "## Question 2. Evolution du nombre de clients dans le système "
   ]
  },
  {
   "cell_type": "markdown",
   "id": "c53b0497",
   "metadata": {},
   "source": [
    "### Modélisation du nombre de clients dans le système"
   ]
  },
  {
   "cell_type": "markdown",
   "id": "5f2deacb",
   "metadata": {},
   "source": [
    "Nous souhaitons maintenant modéliser l'évolution du nombre de clients dans le système. \n",
    "\n",
    "Considérons un exemple suivant. La file d'attente est donnée par les temps d'arrivées et départs suivants :\n",
    "\n",
    "<img src=\"img/nb-clients-init-table.png\" width=\"200\">\n",
    "\n",
    "Nous souhaitons étudier le nombre de clients dans le système. En partant du principe du *temps continue*, nous pouvons fixer les instants de temps où il y a un changement dans le système, i.e. une arrivée ou un départ :\n",
    "\n",
    "<img src=\"img/nb-clients-time-axis-init.png\" width=\"800\">\n",
    "\n",
    "Comme indiqué avant, un changement de l'état de système est soit une augmentation du nombre de clients dans le système par 1 ($+1$), soit une diminution du nombre de clients dans le système par 1 ($-1$).\n",
    "\n",
    "Rajoutons ces types de changement sur le graphique :\n",
    "\n",
    "<img src=\"img/nb-clients-time-axis-init-2.png\" width=\"800\">\n",
    "\n",
    "A présent, on peut calculer le nombre de clients dans le système pour chaque instant comme la somme cumulative :\n",
    "\n",
    "<img src=\"img/nb-clients-time-axis.png\" width=\"800\">\n",
    "\n",
    "Autrement dit, on peut construire une table suivante :\n",
    "\n",
    "<img src=\"img/nb-clients-final-table.png\" width=\"700\">\n",
    "\n",
    "\n",
    "Pour la modélisation :\n",
    "\n",
    "1. Vous devez récupérer les résultats de simulation de la file d'attente. A partir de ces données, vous pouvez construire deux tableaux : \n",
    "    - instants de temps de changements $temps$ \n",
    "    - nombre de clients $nb\\_clients$ \n",
    "    tels qu'à chaque instant $temps_i$ on ait $nb\\_clients_i$ clients dans la file.\n",
    "2. Représentez le nombre de clients en fonction du temps.\n",
    "\n",
    "```\n",
    "def evolution(queue):\n",
    "    \"\"\"\n",
    "    Modélise l'évolution du nombre de clients dans la file queue.\n",
    "    \n",
    "    Keyword arguments:\n",
    "    queue -- dictionnaire contenant les temps des arrivées et départs de clients\n",
    "    \n",
    "    Return:\n",
    "    un dictionnaire contenant les instants de temps et le nombre de clients correspondant dans le système\n",
    "    \"\"\"\n",
    "```\n",
    "\n",
    "**Quelques astuces :**\n",
    "\n",
    "1. Quand un client arrive au serveur, le nombre de clients incrémente +1. Quand le traitement d'un client est terminé, le nombre de clients diminue -1.\n",
    "2. Afin de générer un tableau contenant la même valeur plusieurs fois, on peut se servir de la fonction [numpy.repeat](https://numpy.org/doc/stable/reference/generated/numpy.repeat.html), e.g. `np.repeat(1, repeats=10)` va retourner 10 répétitions de la valeur 1.\n",
    "3. Afin de faire un tri d'un tableau en recevant les indices du tableau initial ordonnées selon l'ordre croissant des valeurs correspondantes, on peut utiliser la fonction [numpy.argsort](https://numpy.org/doc/stable/reference/generated/numpy.argsort.html), e.g. `np.argsort(np.array([3, 1, 2]))` va retourner un tableau `[1, 2, 0]`\n",
    "4. Afin de calculer la somme cumulative, on peut utiliser la fonction [numpy.cumsum](https://numpy.org/doc/stable/reference/generated/numpy.cumsum.html), e.g. `np.cumsum(np.array([1, 2, 3, 4]))` va retourner un tableau `array([ 1,  3,  6, 10], dtype=int32)`.\n",
    "5. On considère qu'au début de l'observation, le temps est 0 et le nombre de client est 0.\n",
    "6. Il est également possible de se servir d'un DataFrame, e.g. [`pandas.DataFrame`](https://pandas.pydata.org/docs/reference/api/pandas.DataFrame.html)"
   ]
  },
  {
   "cell_type": "code",
   "execution_count": null,
   "id": "173cfc43",
   "metadata": {
    "ExecuteTime": {
     "end_time": "2023-03-13T14:19:15.616671Z",
     "start_time": "2023-03-13T14:19:15.602711Z"
    }
   },
   "outputs": [],
   "source": [
    "## Donnez votre code ici"
   ]
  },
  {
   "cell_type": "markdown",
   "id": "a606fd9e",
   "metadata": {},
   "source": [
    "### Application et visualisation"
   ]
  },
  {
   "cell_type": "markdown",
   "id": "a1c7975d",
   "metadata": {},
   "source": [
    "Prendre $\\lambda$ et $\\mu$ tels qu'arrivent en moyenne 10 clients par heure et repartent en moyenne 20 clients par heure. Représentez l'évolution du nombre de clients dans le système pendant 12 heures de fonctionnement.\n",
    "\n",
    "Même question avec 14, 20 puis 30 arrivées par heure en moyenne et le même taux de départ. Comparez les résultats obtenus en visualisant le nombre de clients en fonction de temps sur le graphique. Commentez les résultats.\n",
    "\n",
    "Notons que la forme exacte des graphiques dépend de valeurs des variables aléatoires. Pour les questions de reproducibilité,  il est possible de fixez la graine alétoire, e.g. `np.random.seed(seed=10)`.\n",
    "\n",
    "**Remarque :** ceci doit être fait dans la même cellule executable que le code utilisant l'aléatoire. \n",
    "\n",
    "Testez les graines différentes.\n",
    "\n",
    "**Quelques astuces :**\n",
    "* Pensez à sauvegarder les résultats de création des files d'attente et de calcul de nombre de clients dans le système afin de pouvoir utiliser ces données par la suite. Une des façons de faire est d'utiliser un DataFrame. Ce DataFrame pourrait contenir les colonnes suivantes : `lambda`, `mu`, `temps`, `nb_clients`."
   ]
  },
  {
   "cell_type": "code",
   "execution_count": null,
   "id": "9ea0bf4f",
   "metadata": {},
   "outputs": [],
   "source": []
  },
  {
   "cell_type": "code",
   "execution_count": null,
   "id": "61e6f99e",
   "metadata": {},
   "outputs": [],
   "source": [
    "## Donnez votre code ici\n",
    "np.random.seed(seed=10)\n",
    "\n"
   ]
  },
  {
   "cell_type": "markdown",
   "id": "d44d7bcc",
   "metadata": {},
   "source": [
    "**Commentaires :** <span style=\"color:red\">Donnez vos commentaires ici</span>"
   ]
  },
  {
   "cell_type": "markdown",
   "id": "5589691c",
   "metadata": {},
   "source": [
    "Soit $\\rho = \\lambda / \\mu$ la proportion de temps le serveur est occupé, e.g. :\n",
    "| $\\lambda$ | $\\mu$ | $\\rho$ |\n",
    "| -- | -- | -- |\n",
    "| 0.17 | 0.33 | 0.5 |\n",
    "| 0.23 | 0.33 | 0.7 |\n",
    "| 0.33 | 0.33 | 1 |\n",
    "| 0.5 | 0.33 | 1.5 |\n",
    "\n",
    "La théorie nous dit que dans le cas $\\lambda < \\mu$ il existe **la distribution stationaire** donnée par :\n",
    "$$\\forall i\\in \\mathbb{N}^*, \\pi_i = \\rho^i (1 - \\rho)$$\n",
    "\n",
    "c.à.d. la probabilité d'avoir $i$ clients dans le système.\n",
    "\n",
    "Notons que dans le cas $\\mu > \\lambda$, $\\rho > 1$ et par conséquent, $\\rho^i (1 - \\rho) < 0$. Il ne s'agit plus de la distirbution.\n",
    "\n",
    "On peut estimer le temps que la file d'attente passe dans chaqun des états car cette information est plus \"stable\" que l'évolution du nombre de clients calculée précedemment.\n",
    "\n",
    "1. Calculez $\\rho$ pour chaque paire de valeurs $\\lambda$ et $\\mu$, utilisée dans la question précédente. \n",
    "2. Calculez la distribution stationnaire pour chaque cas. \n",
    "\n",
    "```\n",
    "def calc_stationary(rho, k=20):\n",
    "    \"\"\"\n",
    "    Calcule la distribution stationaire.\n",
    "\n",
    "    Keyword arguments:\n",
    "    rho -- la proportion de temps le serveur est occupé\n",
    "    k   -- le nombre d'états à considérer \n",
    "\n",
    "    Return:\n",
    "    une liste contenant les probabilités (proportion de temps) de rester dans un état \n",
    "    \"\"\"   \n",
    "```\n",
    "\n",
    "3. Calculez la durée des intervalles sans changement de l'état.\n",
    "4. Calculez la proportion de temps que la file d'attente passe dans chaque état. \n",
    "5. Visualisez le résultat sous forme de diagramme en bâton en vous servant de [`plt.bar()`](https://matplotlib.org/stable/api/_as_gen/matplotlib.pyplot.bar.html)\n",
    "6. Qu'est-ce qu'on peut dire de point de vue de convergence, en comparant les résultats avec la distirbution stationnaire ?\n",
    "\n",
    "**Quelques astuces** : \n",
    "1. Afin de calculer le temps passé dans un état, il est nécessaire de considérer la longueur de l'intervalle pendant lequel le système reste sans changer. \n",
    "\n",
    "Reprenons l'exemple précédent. L'histogramme au-dessus représente le nombre de clients dans le système sur les intervals de temps. Un interval de temps est borné par deux évènements de changement de l'état du système. Notons que tout au long d'un interval donné, le nombre de clients présents dans le système reste le même. \n",
    "\n",
    "<img src=\"img/nb-clients-interval.png\" width=\"800\">\n",
    "\n",
    "Pqr exemple, pour calculer la proportion de temps le système passe dans l'état 2, nous devons considérer les intervalles suivants : $[2,3], [7,8], [9,11]$ de la durée totale 4. Ensuite il faudra diviser cette durée totale par le temps total de l'observation du système, ici 15.\n",
    "\n",
    "2. Pour calculer la différence entre deux éléments adjacents dans le tableau, i.e. $out[i] = a[i+1] - a[i]$, on peut utiliser la fonction [numpy.diff](https://numpy.org/doc/stable/reference/generated/numpy.diff.html). Pour le calcul du dernier intervalle, on peut append la durée totale de l'observation du système, i.e. le paramètre `d`.\n"
   ]
  },
  {
   "cell_type": "code",
   "execution_count": null,
   "id": "969ae42c",
   "metadata": {},
   "outputs": [],
   "source": [
    "# Donnez votre code ici\n",
    "\n",
    "# calcul de rho\n"
   ]
  },
  {
   "cell_type": "code",
   "execution_count": null,
   "id": "b36b1d2c",
   "metadata": {},
   "outputs": [],
   "source": [
    "# Donnez votre code ici\n",
    "\n",
    "# calcul de distribution stationnaire\n"
   ]
  },
  {
   "cell_type": "code",
   "execution_count": null,
   "id": "c25e71d9",
   "metadata": {},
   "outputs": [],
   "source": [
    "# Donnez votre code ici\n",
    "\n",
    "# "
   ]
  },
  {
   "cell_type": "code",
   "execution_count": null,
   "id": "65428dec",
   "metadata": {},
   "outputs": [],
   "source": [
    "# Donnez votre code ici\n",
    "\n",
    "# calcul de la proportion de temps passé dans chaque état\n",
    "\n"
   ]
  },
  {
   "cell_type": "code",
   "execution_count": null,
   "id": "398bb335",
   "metadata": {},
   "outputs": [],
   "source": [
    "# Donnez votre code ici\n",
    "\n",
    "# visualisation\n"
   ]
  },
  {
   "cell_type": "markdown",
   "id": "57c5fd0e",
   "metadata": {},
   "source": [
    "**Commentaires :** <span style=\"color:red\">Donnez vos commentaires ici</span>"
   ]
  },
  {
   "cell_type": "markdown",
   "id": "dd85ab1b",
   "metadata": {},
   "source": [
    "## Question 3. Formule de Little"
   ]
  },
  {
   "cell_type": "markdown",
   "id": "d9bd2dd4",
   "metadata": {},
   "source": [
    "Remarquons que le nombre moyen d'arrivées dans un intervalle de temps $t$ vaut alors $\\lambda t$ et que le nombre de client qui part durant cet intervalle vaut en moyenne $\\mu t$. L'intensité du traffic sur un serveur peut alors être mesuré par le rapport $\\alpha = \\frac{\\lambda}{\\mu}$. L'unité de mesure associée à cette grandeur est en général le [*Erlang*](https://fr.wikipedia.org/wiki/Erlang_(unit%C3%A9)).\n",
    "\n",
    "Lorsque $\\alpha > 1$, cela signifie qu'il y a en moyenne plus d'arrivées que de départs aux serveurs, donc que la file d'attente s'allonge et finira par saturer. \n",
    "\n",
    "Le cas qui nous intéresse est donc le cas $\\alpha < 1$. Alors le système va se stabiliser ; on dit qu'il admet un régime stationnaire (voir votre cours de probabilités). Décrivons ce régime stationnaire :\n",
    "\n",
    "<img src=\"img/queue-stationary.png\" width=\"500\">\n",
    "\n",
    "Soit $\\pi_i$ la probabilité d'être dans l'état $i$. Alors nous avons $\\lambda \\pi_i = \\mu \\pi_{i+1}$, ou encore $\\pi_{i+1}=\\alpha\\pi_{i}$. Nous reconnaissons une suite géométrique de raison $\\alpha < 1$. La solution est $\\pi_i = \\alpha^i(1-\\alpha)$.\n",
    "\n",
    "Soit $N$ le nombre de clients dans le système. Lorsque le système est stabilisé, $N$ a pour loi $(\\pi_1, ..., \\pi_k, ... )$.\n",
    "Nous avons ainsi : $$\\mathbb{E}(N) = \\sum_i i\\pi_i = \\frac{\\alpha}{1-\\alpha}$$\n",
    "\n",
    "De plus, dans une file $M/M/1$, il existe une relation fondamentale reliant les différentes grandeurs du système. Cette relation est la **formule de Little**. Soit $W$ le temps durant lequel un client reste dans le système. Alors nous avons :\n",
    "$$\\mathbb{E}(N) = \\lambda \\mathbb{E}(W)$$\n",
    "\n",
    "Ceci signifie qu'en moyenne un client restant un laps de temps $\\mathbb{E}(W)$ voit arriver derrière lui $\\lambda\\mathbb{E}(W)$\n",
    "autres clients, avec $\\lambda$ fréquence d'entrée des clients.\n",
    "\n",
    "Ou autrement dit le paramètre $\\lambda$ pourrait être approximé par : \n",
    "$$\\lambda = \\frac{\\mathbb{E}(N)}{\\mathbb{E}(W)}$$"
   ]
  },
  {
   "cell_type": "markdown",
   "id": "fdef630c",
   "metadata": {},
   "source": [
    "### Estimation du temps moyen de présence d'un client dans le système"
   ]
  },
  {
   "cell_type": "markdown",
   "id": "889063a8",
   "metadata": {},
   "source": [
    "Estimez le *temps moyen de présence d'un client dans le système*, $\\mathbb{E}(W)$, c'est-à-dire les temps moyens passés en attente et à être servi, autrement dit la différence de temps de départ et de temps d'arrivée.\n",
    "\n",
    "```\n",
    "def temps_moyens(queue):\n",
    "    \"\"\"\n",
    "    Calcule le temps moyen de présence de clients dans le système. \n",
    "    \n",
    "    Keyword arguments:\n",
    "    queue -- dictionnaire contenant les temps des arrivées et départs de clients\n",
    "\n",
    "    Return:\n",
    "    Le temps moyen\n",
    "    \"\"\"\n",
    "```"
   ]
  },
  {
   "cell_type": "code",
   "execution_count": null,
   "id": "fb85bc45",
   "metadata": {
    "ExecuteTime": {
     "end_time": "2023-03-13T14:19:17.161879Z",
     "start_time": "2023-03-13T14:19:17.148193Z"
    }
   },
   "outputs": [],
   "source": [
    "## Donnez votre code ici"
   ]
  },
  {
   "cell_type": "markdown",
   "id": "24e3b7eb",
   "metadata": {},
   "source": [
    "### Estimation du nombre moyen de clients dans le système"
   ]
  },
  {
   "cell_type": "markdown",
   "id": "e8ec3e84",
   "metadata": {},
   "source": [
    "Estimez le nombre moyen de clients $\\mathbb{E}(N)$ dans le système en vous servant de résultats de l'estimation du nombre de clients obtenue avec la fonction `evolution(queue)`. Pensez à prendre en compte la durée pendant laquelle on a ce nombre de clients dans le système.\n",
    "\n",
    "Reprenons l'exemple précédent.  \n",
    "\n",
    "<img src=\"img/nb-clients-interval.png\" width=\"800\">\n",
    "\n",
    "\n",
    "Pour illustrer l'importance de la notion de temps, considérons 2 exemples extrêmes : \n",
    "\n",
    "* Le système $A$ est observé pendant 60 minutes. Un client est arrivé au bout de la première minute, i.e. le temps de son arrivée est 1. Il est parti une minute après, i.e. son temps de départ est 2. \n",
    "* Le système $B$ est observé pendant 60 minutes. Un client est arrivé au bout de la première minute, i.e. le temps de son arrivée est 1. Il est parti 58 minutes après, i.e. son temps de départ est 59.\n",
    "\n",
    "Dans les deux cas ($A$ et $B$) il y avait une arrivée et un départ. Est-ce que pour autant le nombre moyen de clients dans le système est le même ?\n",
    "\n",
    "Dans le premier cas, le client est servi presque instantanément et le reste du temps le système est vide. Donc, en moyenne on pourrait dire que le nombre de client est $1/60 \\approx 0.017$ (proche de 0). \n",
    "\n",
    "Dans le deuxième cas, le service du client a pris presque tout le temps d'observation. On pourrait même dire qu'il y avait toujours qn. Donc, en moyenne le nombre de client est $58/60 \\approx 0.97$ (proche de 1). \n",
    "\n",
    "Implémentez la fonction suivante :\n",
    "\n",
    "```\n",
    "def nombre_moyens(evol):\n",
    "    \"\"\"\n",
    "    Calcule le nombre moyen de clients dans le système. \n",
    "    \n",
    "    Keyword arguments:\n",
    "    evol -- dictionnaire contenant les instants de temps et nombre de clients correspondant\n",
    "\n",
    "    Return:\n",
    "    Le nombre de clients moyen\n",
    "    \"\"\"\n",
    "```\n",
    "\n",
    "**Quelques astuces :**\n",
    "1. Afin de calculer la différence entre deux éléments adjacents dans le tableau, i.e. $out[i] = a[i+1] - a[i]$, on peut utiliser la fonction [numpy.diff](https://numpy.org/doc/stable/reference/generated/numpy.diff.html)"
   ]
  },
  {
   "cell_type": "code",
   "execution_count": null,
   "id": "244959f1",
   "metadata": {
    "ExecuteTime": {
     "end_time": "2023-03-13T14:19:17.176850Z",
     "start_time": "2023-03-13T14:19:17.165915Z"
    }
   },
   "outputs": [],
   "source": [
    "## Donnez votre code ici"
   ]
  },
  {
   "cell_type": "markdown",
   "id": "f9b72ab9",
   "metadata": {},
   "source": [
    "### Application"
   ]
  },
  {
   "cell_type": "markdown",
   "id": "6410a281",
   "metadata": {},
   "source": [
    "Estimez le nombre moyen de clients dans le système ainsi que le temps de présence d'un client dans le système après 12 heures de fonctionnement en prenant les valeurs de $\\lambda$ et $\\mu$ des questions précédentes. On peut se limiter par les cas convergents. Retrouvez-vous la formule de Little ? Commentez."
   ]
  },
  {
   "cell_type": "code",
   "execution_count": null,
   "id": "9c1c116d",
   "metadata": {
    "ExecuteTime": {
     "end_time": "2023-03-13T14:19:17.207609Z",
     "start_time": "2023-03-13T14:19:17.177880Z"
    }
   },
   "outputs": [],
   "source": [
    "## Donnez votre code ici"
   ]
  },
  {
   "cell_type": "markdown",
   "id": "6e63d7b2",
   "metadata": {},
   "source": [
    "**Conclusion / commentaires :** <span style=\"color:red\">Donnez vos commentaires ici</span>"
   ]
  },
  {
   "cell_type": "markdown",
   "id": "8ee02175",
   "metadata": {},
   "source": [
    "### Temps d'attente"
   ]
  },
  {
   "cell_type": "markdown",
   "id": "948fe9ab",
   "metadata": {},
   "source": [
    "Nous pouvons affiner un peu l'étude en étudiant aussi le temps passé à attendre dans la file avant d'être servi que nous noterons $W_a$ ou le nombre moyen d'individus dans la file d'attente, non servis, que nous noterons $N_a$. Nous pouvons montrer que :\n",
    "$$\\mathbb{E}(W_a) = \\mathbb{E}(W) - \\frac{1}{\\mu}$$\n",
    "$$\\mathbb{E}(N_a) = \\lambda\\mathbb{E}(W_a)$$"
   ]
  }
 ],
 "metadata": {
  "kernelspec": {
   "display_name": "Python 3 (ipykernel)",
   "language": "python",
   "name": "python3"
  },
  "language_info": {
   "codemirror_mode": {
    "name": "ipython",
    "version": 3
   },
   "file_extension": ".py",
   "mimetype": "text/x-python",
   "name": "python",
   "nbconvert_exporter": "python",
   "pygments_lexer": "ipython3",
   "version": "3.10.13"
  },
  "toc": {
   "base_numbering": 1,
   "nav_menu": {},
   "number_sections": true,
   "sideBar": true,
   "skip_h1_title": false,
   "title_cell": "Table of Contents",
   "title_sidebar": "Contents",
   "toc_cell": false,
   "toc_position": {
    "height": "calc(100% - 180px)",
    "left": "10px",
    "top": "150px",
    "width": "303.837px"
   },
   "toc_section_display": true,
   "toc_window_display": true
  }
 },
 "nbformat": 4,
 "nbformat_minor": 5
}
