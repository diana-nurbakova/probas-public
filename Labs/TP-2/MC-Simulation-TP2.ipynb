{
 "cells": [
  {
   "cell_type": "markdown",
   "id": "cad35377",
   "metadata": {},
   "source": [
    "# Problème Monty Hall et Simulation de Distributions "
   ]
  },
  {
   "cell_type": "markdown",
   "id": "628ecfb5",
   "metadata": {},
   "source": [
    "## Problème *Monty Hall* avec Simulation Monte-Carlo"
   ]
  },
  {
   "cell_type": "markdown",
   "id": "a7b871a8",
   "metadata": {},
   "source": [
    "Il existe un casse-tête probabiliste [*le problème de Monty Hall*](https://fr.wikipedia.org/wiki/Probl%C3%A8me_de_Monty_Hall) aussi appelé *paradoxe de Monty Hall*, inspiré du jeu télévisé américain [*Let's Make a Deal*](https://fr.wikipedia.org/wiki/Let%27s_Make_a_Deal) présenté par [Monty Hall](https://fr.wikipedia.org/wiki/Monty_Hall). \n",
    "\n",
    "Le problème peut être formulé de la façon suivante: \n",
    "\n",
    "La personne est placée devant trois portes fermées.\n",
    "\n",
    "<img src=\"img/3-doors.png\" alt=\"Trois portes fermées\" width=\"400px\">\n",
    "\n",
    "Derrière une porte se trouve un prix et derrière deux autres une chèvre. \n",
    "\n",
    "La personne choisit une porte qui reste fermée :\n",
    "\n",
    "<img src=\"img/choice-1.png\" alt=\"1er choix d'une porte\" width=\"400px\">\n",
    "\n",
    "Le.a présentateur.rice, qui sait ce qu'il y a derrière chaque porte, ouvre une des portes qui restent derrière laquelle se trouve une chèvre :\n",
    "\n",
    "<img src=\"img/goat-revealed.png\" alt=\"Une chèvre est dévoilée derrière une des portes\" width=\"400px\">\n",
    "\n",
    "La personne a alors le choix : soit ouvrir la porte choisie initiallement, soit ouvrir une autre porte (i.e. changer son avis).  \n",
    "<img src=\"img/question.png\" alt=\"Quelle porte choisir?\" width=\"620px\">\n",
    "\n",
    "> A la personne intérêt à changer son choix initial ? \n",
    "\n",
    "> Quelles sont ses chances de gagner le prix en agissant au mieux ?\n",
    "\n",
    "<img style=\"float: right;\" src=\"https://allthatsinteresting.com/wordpress/wp-content/uploads/2018/03/portrait-of-marilyn-vos-savant.jpg\" alt=\"Marilyn Vos Savant's portrait, source: allthatsinteresting.com, under Wikimedia Commons license\" width=\"150px\"> Ce problème est devenu connu par le grand public grâce à [Marilyn vos Savant](https://fr.wikipedia.org/wiki/Marilyn_vos_Savant), une femme possédant l'un des quotients intellectuels les plus élevés au monde, indiqué par le *Guiness Book of records*. Elle publie l'énoncé et sa réponse dans sa rubrique *Ask Marilyn* de Parade Magazine en septembre 1990 :\n",
    "\n",
    "*Suppose you're on a game show, and you're given the choice of three doors: Behind one door is a car; behind the others, goats. You pick a door, say No. 1, and the host, who knows what's behind the doors, opens another door, say No. 3, which has a goat. He then says to you, \" Do you want to pick door No. 2? \" Is it to your advantage to switch your choice?*\n",
    "\n",
    "Afin de répondre à cette question, nous allons d'abord approcher ce problème de point de vue probabiliste, et ensuite nous allons faire une simulation."
   ]
  },
  {
   "cell_type": "markdown",
   "id": "110784c1",
   "metadata": {},
   "source": [
    "### Approche probabiliste"
   ]
  },
  {
   "cell_type": "markdown",
   "id": "de6d3eda",
   "metadata": {},
   "source": [
    "Soit $A = \\text{\\{la personne gagne le prix\\}}$ et $B = \\text{\\{la personne a choisi la bonne porte\\}}$. Alors, selon la formule de probabilité totale :\n",
    "\n",
    "$$\\mathbb{P}(A) = \\mathbb{P}(A|B)\\times \\mathbb{P}(B) + \\mathbb{P}(A|\\bar{B})\\times \\mathbb{P}(\\bar{B})$$\n",
    "\n",
    "Notons que la probabilité que la personne a choisi la bonne porte, $\\mathbb{P}(B) = \\frac{1}{3}$ lorsqu'il y a un seul prix derrière 3 portes. Et $\\mathbb{P}(\\bar{B}) = \\frac{2}{3}$. Ainsi, nous obtenons : \n",
    "\n",
    "$$\\mathbb{P}(A) = \\mathbb{P}(A|B)\\times \\mathbb{P}(B) + \\mathbb{P}(A|\\bar{B})\\times \\mathbb{P}(\\bar{B}) = \\mathbb{P}(A|B)\\times \\frac{1}{3} + \\mathbb{P}(A|\\bar{B})\\times \\frac{2}{3}$$\n",
    "\n",
    "Considérons le cas, où **la personne garde son choix initial** :\n",
    "\n",
    "* la probabilité de gagner sachant que la porte choisie est bonne est 1, i.e. $\\mathbb{P}(A|B) = 1$\n",
    "* la probabilité de gagner sachant que la porte choisie n'est pas bonne est 0, i.e. $\\mathbb{P}(A|\\bar{B}) = 0$\n",
    "\n",
    "Dans ce cas là : \n",
    "$$\\mathbb{P}(A) = \\mathbb{P}(A|B)\\times \\mathbb{P}(B) + \\mathbb{P}(A|\\bar{B})\\times \\mathbb{P}(\\bar{B}) = \\mathbb{P}(A|B)\\times \\frac{1}{3} + \\mathbb{P}(A|\\bar{B})\\times \\frac{2}{3} = 1\\times \\frac{1}{3} + 0\\times \\frac{2}{3} = \\mathbf{\\frac{1}{3}}$$\n",
    "\n",
    "<img src=\"img/tree-remain-initial-choice.png\" alt=\"Arbre des probabilités si la stratégie est de garder le choix initial\" width=\"620px\">\n",
    "\n",
    "\n",
    "\n",
    "Maintenant, considérons le cas où **la personne change son avis** :\n",
    "\n",
    "* si la personne a choisi initialement une bonne porte, la probabilité de gagner si elle change par la suite est 0, i.e. $\\mathbb{P}(A|B) = 0$\n",
    "* si la personne a choisi initialement une bonne porte, la probabilité de gagner si elle change par la suite est 1, i.e. $\\mathbb{P}(A|\\hat{B}) = 1$.\n",
    "\n",
    "Donc : \n",
    "$$\\mathbb{P}(A) = \\mathbb{P}(A|B)\\times \\mathbb{P}(B) + \\mathbb{P}(A|\\bar{B})\\times \\mathbb{P}(\\bar{B}) = \\mathbb{P}(A|B)\\times \\frac{1}{3} + \\mathbb{P}(A|\\bar{B})\\times \\frac{2}{3} = 0\\times \\frac{1}{3} + 1\\times \\frac{2}{3} = \\mathbf{\\frac{2}{3}}$$\n",
    "\n",
    "<img src=\"img/tree.png\" alt=\"Arbre des probabilités si la stratégie est de changer le choix initial\" width=\"620px\">\n",
    "\n",
    "Autrement dit, initialement les probabilités de gagner se répartissent de la façon suivante :\n",
    "\n",
    "<img src=\"img/doors-prob.png\" alt=\"Probabilité de gagner initialement\" width=\"400px\">\n",
    "\n",
    "Une fois qu'une chèvre est dévoilée, la probabilité de gagner se répartit de la façon suivante :\n",
    "\n",
    "<img src=\"img/doors-prob-goat.png\" alt=\"Probabilité de gagner initialement\" width=\"400px\">\n"
   ]
  },
  {
   "cell_type": "markdown",
   "id": "b5280371",
   "metadata": {},
   "source": [
    "### Simulation"
   ]
  },
  {
   "cell_type": "markdown",
   "id": "23ad8d26",
   "metadata": {},
   "source": [
    "Vérifions le raisonement ci-dessous avec une simulation. \n",
    "\n",
    "Nous allons avoir besoin de générateur de pseudo-aléatoire. Nous pouvons utiliser le module [`random`](https://docs.python.org/3/library/random.html)."
   ]
  },
  {
   "cell_type": "code",
   "execution_count": null,
   "id": "2202678f",
   "metadata": {
    "ExecuteTime": {
     "end_time": "2023-03-13T01:23:06.452411Z",
     "start_time": "2023-03-13T01:23:06.432497Z"
    }
   },
   "outputs": [],
   "source": [
    "# chargement du module de générateur de nombre pseudo-aléatoires\n",
    "from random import randint, choice "
   ]
  },
  {
   "cell_type": "markdown",
   "id": "50c8b695",
   "metadata": {},
   "source": [
    "Afin de choisir un nombre entier $N$ compris entre $a$ et $b$ (i.e. $a \\leq N \\leq b$), on peut utiliser la fonction [`random.randint(a, b)`](https://docs.python.org/3/library/random.html#random.randint), e.g. :"
   ]
  },
  {
   "cell_type": "code",
   "execution_count": null,
   "id": "11cd703f",
   "metadata": {
    "ExecuteTime": {
     "end_time": "2023-03-13T01:23:06.468403Z",
     "start_time": "2023-03-13T01:23:06.453441Z"
    }
   },
   "outputs": [],
   "source": [
    "# choisir un nombre entre 1 et 6\n",
    "randint(1, 6)"
   ]
  },
  {
   "cell_type": "markdown",
   "id": "d250015b",
   "metadata": {},
   "source": [
    "Afin de choisi un élément d'une séquence `s` d'une manière aléatoire, on peut utiliser la fonction [`random.choice()`](https://docs.python.org/3/library/random.html#random.choice), e.g.:"
   ]
  },
  {
   "cell_type": "code",
   "execution_count": null,
   "id": "ce316d15",
   "metadata": {
    "ExecuteTime": {
     "end_time": "2023-03-13T01:23:06.483363Z",
     "start_time": "2023-03-13T01:23:06.470390Z"
    }
   },
   "outputs": [],
   "source": [
    "# liste (séquence d'éléments)\n",
    "s = ['a', 'b', 'c']\n",
    "# choisir un élément\n",
    "choice(s)"
   ]
  },
  {
   "cell_type": "markdown",
   "id": "940f41f3",
   "metadata": {},
   "source": [
    "#### Exemple de simulation (lancements d'un dé)"
   ]
  },
  {
   "cell_type": "markdown",
   "id": "e2a88c15",
   "metadata": {},
   "source": [
    "Imaginons que le problème traité est le suivant. Nous lancons un dé équilibré 6 fois. Ce qui nous intéresse est la probabilité d'avoir 6 valeurs différentes lors de ces lancements. \n",
    "\n",
    "De point de vue probabiliste, cette probabilité est égale à :\n",
    "\n",
    "$$\\frac{6}{6} \\times \\frac{5}{6} \\times \\frac{4}{6} \\times \\frac{3}{6} \\times \\frac{2}{6} \\times \\frac{1}{6} = \\frac{6!}{6^6} = 0.015$$"
   ]
  },
  {
   "cell_type": "code",
   "execution_count": null,
   "id": "5f17cc92",
   "metadata": {
    "ExecuteTime": {
     "end_time": "2023-03-13T01:23:06.499319Z",
     "start_time": "2023-03-13T01:23:06.485323Z"
    }
   },
   "outputs": [],
   "source": [
    "import math \n",
    "# calculons la valeur précédente\n",
    "math.factorial(6) / 6**6"
   ]
  },
  {
   "cell_type": "markdown",
   "id": "9c9157dc",
   "metadata": {},
   "source": [
    "Passons à la simulation en identifiant des points suivants :\n",
    "\n",
    "* *variables à controler* : les résultats de 6 lancements d'un dé\n",
    "* *distribution de chaque variable* : uniforme discrète, 1/6 pour chaque côté :\n",
    "|1|2|3|4|5|6|\n",
    "|--|--|--|--|--|--|\n",
    "|$$\\frac{1}{6}$$|$$\\frac{1}{6}$$|$$\\frac{1}{6}$$|$$\\frac{1}{6}$$|$$\\frac{1}{6}$$|$$\\frac{1}{6}$$|\n",
    "* *boucle* (à répéter autant de fois que le nombre d'essais) :\n",
    "    - *réalisation d'une variable aléatoire* : un lancement d'un dé\n",
    "    - *calcul déterministe du résultat* : ajout de résultat de la réalisation dans un ensemble (`set`). Si la taille de cet ensemble au bout de 6 lancement est égale à 6 (nombre de lancement), donc tous les lancements ont eu des résultats différents. Si c'est le cas, on incrémente la valeur de variable-compteur de succès. \n",
    "* *Agrégation de résultat* : diviser le nombre de succès par le nombre d'essais pour avoir la probabilité"
   ]
  },
  {
   "cell_type": "code",
   "execution_count": null,
   "id": "cd1969c0",
   "metadata": {
    "ExecuteTime": {
     "end_time": "2023-03-13T01:23:12.930825Z",
     "start_time": "2023-03-13T01:23:06.500317Z"
    }
   },
   "outputs": [],
   "source": [
    "# nombre d'essais\n",
    "trials = 1000000\n",
    "# initialisation du compteur de succès \n",
    "success = 0\n",
    "# nombre de lancement de dé\n",
    "rolls = 6\n",
    "# répétitions selon le nombre d'essais\n",
    "for i in range(trials):\n",
    "    # ensemble de résultats uniques lors de lancements\n",
    "    faces = set() \n",
    "    # pour chaque lancement \n",
    "    for j in range(rolls):\n",
    "        # réalisation d'une distribution uniforme sur [1, 6]\n",
    "        res = randint(1, 6)\n",
    "        # ajout de résultat dans l'ensemble faces\n",
    "        faces.add(res)\n",
    "    # test si le nombre de valeurs dans faces est égale à nombre de lancements de dé \n",
    "    if len(faces) == rolls :\n",
    "        # incrémente le succès\n",
    "        success += 1\n",
    "# calcul de la probabilité du succès\n",
    "prob = success / trials\n",
    "# affichage du résultat\n",
    "print(f\"La probabilité du succès : {prob}\")"
   ]
  },
  {
   "cell_type": "markdown",
   "id": "1a64954f",
   "metadata": {},
   "source": [
    "Notons qu'on obtient le résultat conforme avec la valeur théorique."
   ]
  },
  {
   "cell_type": "markdown",
   "id": "d8889e30",
   "metadata": {},
   "source": [
    "#### Application au problème de Monty Hall "
   ]
  },
  {
   "cell_type": "markdown",
   "id": "e533f563",
   "metadata": {},
   "source": [
    "Soit `doors = [\"A\", \"B\", \"C\"]` une liste contenant les options pour les portes. \n",
    "Ecrivez la fonction `simulation_monty_hall(trials)` qui prend en paramètre le nombre de runs à faire (`trials`) et effectue des opérations suivantes : \n",
    "\n",
    "* choisit la porte gagnante d'une manière aléatoire à partir de `doors`, \n",
    "* choisit la porte \"choix initial\" de la personne d'une manière aléatoire à partir de `doors`, \n",
    "* agrège les résultats de victoire en choisissant soit la porte initiale, soit en changeant la porte une fois une chèvre dévoilée. \n",
    "* calcule le résultat de réussite de chacune de stratégies : si le choix initial est gagnant, alors c'est la stratégie de garder le choix initial qui gagne, sinon c'est la stratégie de changer la porte qui gagne.\n",
    "\n",
    "```\n",
    "def simulation_monty_hall(trials=10000):\n",
    "    \"\"\"\n",
    "    Simulation du problème de Monty Hall. La porte gagnante et la porte choisie initialement par l'utilisateur \n",
    "    sont choisies d'une manière aléatoire.\n",
    "    \n",
    "    Keyword arguments:\n",
    "    trials --  nombre de simulations (essais). Par défaut, 10000 \n",
    "    \n",
    "    Return:\n",
    "    un dictionnaire contenant le nombre de fois que la porte choisie initialement gagne (initial) et \n",
    "    le nombre de fois où la stratégie de changer la porte gagne (change)\n",
    "    \"\"\"\n",
    "```"
   ]
  },
  {
   "cell_type": "code",
   "execution_count": null,
   "id": "4444fb1c",
   "metadata": {
    "ExecuteTime": {
     "end_time": "2023-03-13T01:23:12.946738Z",
     "start_time": "2023-03-13T01:23:12.932774Z"
    }
   },
   "outputs": [],
   "source": [
    "## Donnez votre code ici"
   ]
  },
  {
   "cell_type": "markdown",
   "id": "c1e8ee51",
   "metadata": {},
   "source": [
    "Faites les simulations pour le nombre de runs 10, 100, 1000, 10000, 50000, 100000, 1000000. Afficher les statistiques suivantes :\n",
    "- le nombre de runs\n",
    "- le nombre de fois la stratégie de garder le choix initial (stratégie 1) gagne\n",
    "- le nombre de fois la stratégie de changer (stratégie 2) gagne \n",
    "- la probabilité de gagner avec la stratégie 1 \n",
    "- la probabilité de gagner avec la stratégie 2 \n",
    "\n",
    "Commentez."
   ]
  },
  {
   "cell_type": "code",
   "execution_count": null,
   "id": "b2e35716",
   "metadata": {
    "ExecuteTime": {
     "end_time": "2023-03-13T01:23:14.086371Z",
     "start_time": "2023-03-13T01:23:12.947738Z"
    }
   },
   "outputs": [],
   "source": [
    "## Donnez votre code ici"
   ]
  },
  {
   "cell_type": "markdown",
   "id": "9b0a1201",
   "metadata": {},
   "source": [
    "**Conclusions / commentaires :** <span style=\"color:red\">Donnez vos commentaires ici</span>"
   ]
  },
  {
   "cell_type": "markdown",
   "id": "76bbd8e8",
   "metadata": {},
   "source": [
    "## Simulation des lois"
   ]
  },
  {
   "cell_type": "markdown",
   "id": "cef23f16",
   "metadata": {},
   "source": [
    "**Objectifs :**\n",
    "\n",
    "* Comprendre la génération de pseudo-aléatoires\n",
    "* Transformer la distribution uniforme sur $[0, 1]$ en une distribution plus complexe.* Transformer la distribution uniforme sur $[0, 1]$ en une distribution plus complexe."
   ]
  },
  {
   "cell_type": "markdown",
   "id": "2d2d938a",
   "metadata": {},
   "source": [
    "### Distribution uniforme"
   ]
  },
  {
   "cell_type": "markdown",
   "id": "2bc11a9f",
   "metadata": {},
   "source": [
    "Nous étudierons les générateurs suivants :\n",
    "1. le *générateur de Von Neumann*, introduit en 1946, qui consiste à élever un nombre au carré puis à retirer le premier et le dernier chiffre, et à itérer cette opération ;\n",
    "2. un *générateur à congruence linéaire usuel*, dit *Standard Minimal*,\n",
    "3. un *générateur à congruence linéaire avec un choix différent des paramètres*, dit *RANDU*.\n",
    "\n",
    "Le principe de ces générateurs est décrit ci-après.\n",
    "\n",
    "Nous n'allons pas étudier le *générateur Mersenne-Twister*, qui est le générateur par défaut de `R` et [`Python`](https://docs.python.org/3/library/random.html). Il peut également être trouvé chez `numpy`,  notamment la classe [`numpy.random.MT19937(seed=None)`](https://numpy.org/doc/stable/reference/random/bit_generators/mt19937.html). En `numpy`, le générateur principal est [Permuted Congruential Generator (64-bit, PCG64), `numpy.random.PCG64(seed=None)`](https://numpy.org/doc/stable/reference/random/bit_generators/pcg64.html#numpy.random.PCG64) \n",
    "\n",
    "Le générateurs Mersenne-Twister ne sera pas décrit\n",
    "ici. Nous renvoyons à [[1]](https://fr.wikipedia.org/wiki/Mersenne_Twister) et [[2]](https://link.springer.com/chapter/10.1007/978-3-540-85912-3_26) pour une description détaillée.\n",
    "\n",
    "**Table de matières :**\n",
    "\n",
    "- [Définition d'un générateur aléatoire](#1)\n",
    "    - [Définition](#1.1)\n",
    "    - [Générateurs pseudo-aléatoires étudiés](#1.2)\n",
    "        - [Générateur de Von Neumann](#von-neumann)\n",
    "        - [Générateurs à congruence linéaires](#congruence)\n",
    "            - [Standard Minimal](#std-min)\n",
    "            - [RANDU](#randu)\n",
    "        - [Graine des générateurs](#graine)\n",
    "    - [Qualité de la séquence produite par un générateur pseudo-aléatoire](#tests)"
   ]
  },
  {
   "cell_type": "markdown",
   "id": "540f8729",
   "metadata": {},
   "source": [
    "<a name='1'></a>\n",
    "#### Définition d'un générateur aléatoire"
   ]
  },
  {
   "cell_type": "markdown",
   "id": "4d763b95",
   "metadata": {},
   "source": [
    "Dans beaucoup d’applications informatiques (la simulation, les jeux vidéos, la cryptographie, etc.), il est nécessaire de tirer des nombres au hasard pour initialiser différents algorithmes. Pour cela, on utilise ce qu’on appelle des nombres **pseudo-aléatoires** pour souligner leur différence par rapport aux véritables suites de variables aléatoires indépendantes identiquement distribuées. Nous nous intéressons ici à quelques méthodes classiquement utilisées pour générer des nombres pseudo-aléatoires (pour plus de détails, se référer par exemple à [[3]](http://math.univ-lyon1.fr/~jberard/genunif-www.pdf)). Plus précisément, il existe deux types de générateurs :\n",
    "* les générateurs *à sorties imprédictibles* : ils génèrent des nombres pseudo-aléatoires dont on ne peut pas prévoir la valeur,\n",
    "* les générateurs *à sorties prédictibles* : dans ces générateurs, on initialise (on dit *nourrir*) l’algorithme à partir d’un nombre connu appelé **graine** et le générateur produira toujours la même suite s'il est initialisé avec la même valeur.\n",
    "\n",
    "Notons que la plupart des algorithmes de génération de nombres pseudo-aléatoires essaient de produire des sorties qui sont *uniformément distribuées* ($\\mathcal{U}([0,1])$). Ceci est expliqué par le fait qu'à partir d'une suite uniforme, il existe des méthodes pour générer des suites de nombres selon les principales lois de probabilité (e.g., *la méthode de la transformée inverse*). \n",
    "\n",
    "[Vidéo sur la génération de nombre aléatoires et psudo-aléatoires par Khan Academy](https://www.khanacademy.org/computing/computer-science/cryptography/crypt/v/random-vs-pseudorandom-number-generators)"
   ]
  },
  {
   "cell_type": "markdown",
   "id": "fbf62409",
   "metadata": {},
   "source": [
    "<a name='1.1'></a>\n",
    "##### Définition\n",
    "\n",
    "<div class=\"alert alert-block alert-info\">\n",
    "Un <b>générateur pseudo-aléatoire</b> est une structure $G = (S, \\mu, f, U, g)$ avec :\n",
    "\n",
    "* $S$ un (grand) ensemble fini d’états,\n",
    "* $\\mu$ est une distribution de probabilité sur $S$ (le plus souvent la loi uniforme),\n",
    "* $f : S \\rightarrow S$ est la fonction de transition utilisée pour passer d'un état $S_i$ au suivant $S_{i+1}$.\n",
    "* $U$ est l'ensemble image de la fonction $g : S \\rightarrow U$ qui fait correspondre à chaque état $S_i$ un échantillon de $U$. Très classiquement, on va avoir $U = [0, 1]$ pour une loi uniforme sur $[0,1]$.\n",
    "</div>\n",
    "\n",
    "Le générateur fonctionne donc en itérant la fonction $f$ à partir d'un état initial $S_0$ appelé **graine** (en. **seed**), choisi par l’utilisateur. En notant $(X_n)_{n\\geq1}$ la liste des valeurs successives produites par le générateur, on a la relation $X_n = g(\\underbrace{f\\circ ... \\circ f(S_0)}_{n\\text{ fois}})$ où $f$ est appliquée $n$ fois.\n",
    "\n",
    "**Remarque :** La notation $g \\circ f$ se lit \"$g$ rond $f$\" ou \"$g$ suivi de $f$\" et correspond à la *composition de fonctions* aussi appelée *composition d'applications*, i.e. $h = g \\circ f$ telle que $h(x) = g(f(x))$.\n",
    "\n",
    "En pratique, le générateur ne garde en mémoire que l'état courant $S_n \\in S$, initialisé à $S_0$ et mis à jour lors de chaque appel de $f : S_n = f(S_{n-1})$, la valeur renvoyée étant égale à $X_n = g(S_n)$.\n",
    "\n",
    "Le choix de la graine $S_0$ détermine donc entièrement la suite de nombres pseudo-aléatoires produite par le générateur car une fois cette graine choisie, le comportement de la suite est complétement **déterministe**."
   ]
  },
  {
   "cell_type": "markdown",
   "id": "5bc2194a",
   "metadata": {},
   "source": [
    "<a name='1.2'></a>\n",
    "##### Générateurs pseudo-aléatoires étudiés"
   ]
  },
  {
   "cell_type": "markdown",
   "id": "36040547",
   "metadata": {},
   "source": [
    "<a name='von-neumann'></a>\n",
    "###### Générateur de Von Neumann\n",
    "\n",
    "<img style=\"float: right;\" src=\"https://upload.wikimedia.org/wikipedia/commons/thumb/d/d6/JohnvonNeumann-LosAlamos.jpg/220px-JohnvonNeumann-LosAlamos.jpg\" alt=\"John von Neumann's portrait, source: wikipedia\" width=\"150px\"> En 1949, John von Neumann propose un générateur pseudo-aléatoire dit *la méthode middle-square* (carré médian). La méthode utilise des nombres comportant 10 chiffres.  \n",
    "\n",
    "La fonction $f$ consiste à élever le nombre $S_n$ au carré et à ôter les premiers et les derniers chiffres en prenant les chiffres au milieu, de manière symétrique, de sorte à ce que le nombre obtenu soit compris entre 0 et 9999. \n",
    "\n",
    "**Exemples :**\n",
    "\n",
    "Soit $S_n = 1315$. Ce nombre est composé de $k = 4$ chiffres. \n",
    "\n",
    "1. $1315^2 = 1729225$. Notons que $1729225$ est composé de 7 chiffres, ce qui ne correspond pas à $2*k = 8$. On peut donc ajouter un 0 au début, ce qui va donner \"**0**1729225\"\n",
    "2. on récupère les 4 chiffres du milieu : $01\\underbrace{7292}_{milieu}25$\n",
    "\n",
    "Donc $S_{n+1} = 7292$.\n",
    "\n",
    "Soit $S_n = 3432, k=4$ : \n",
    "\n",
    "1. $3432^2 = 11778624$, où le nombre de chiffres est $8 = 2k$\n",
    "2. on récupère les 4 chiffre du milieu : $11\\underbrace{7786}_{milieu}24$\n",
    "\n",
    "Donc $S_{n+1} = 7786$"
   ]
  },
  {
   "cell_type": "markdown",
   "id": "408547e9",
   "metadata": {},
   "source": [
    "**Question 1.** Ecrivez la fonction `vonNeumann_no_repeated(seed=0)` qui génére les nombres pseudo-aléatoires avec la méthode de Von Neumann en partant de la graine donnée `seed`.\n",
    "**Question 2.** Testez pour $S_0 = 1315$, $S_0 = 7$ et $S_0 = 42$.\n",
    "\n",
    "```\n",
    "def vonNeumann_no_repeated(seed=0):\n",
    "    \"\"\"\n",
    "    Geneation of pseudo-random numbers using middle-square method by von Neumann. \n",
    "    \n",
    "    Keyword arguments:\n",
    "    seed -- Initial number. By default, seed = 0 \n",
    "    \n",
    "    Return:\n",
    "    sn -- final state  \n",
    "    counter -- the number of iterations    \n",
    "    already_seen_list -- a sequence of created numbers\n",
    "    \"\"\"\n",
    "```\n",
    "\n",
    "Notons que les résultats obtenus pour $S_0 = 7$ et $S_0 = 42$ doivent correspondre bien aux états présentés sur le graphe orienté de 100 nombres pseudo-aléatoires composés de 2 chiffres obtenus avec la méthode middle-square avec $k=2$ ci-dessous :\n",
    "\n",
    "<img src=\"img/Middle_square_method_2_digits.png\" alt=\"Graphe orienté de 100 nombres pseudo-aléatoires composés de 2 chiffres obtenus avec la méthode middle-square avec $k=2$. Source : wikipedia https://en.wikipedia.org/wiki/Middle-square_method#/media/File:Middle_square_method_2_digits.svg\" width=\"300px\">.\n",
    "\n",
    "On peut remarquer que parmi les 100 premiers nombres entiers aucun peut générer des séquences sans venir à un des états suivants : 0, 10, 50, 60 et la boucle $24 \\leftrightarrow 57$. \n",
    "\n",
    "Afin de pouvoir générer le nombre donné de nombres pseudo-aléatoires, nous allons relacher la contrainte de non-répétition. \n",
    "\n",
    "**Question 3.** Mettez à jour l'implémentation de la fonction en relachant le contrainte de non-répétition. \n",
    "\n",
    "```\n",
    "def vonNeumann(seed=0, k=10):\n",
    "    \"\"\"\n",
    "    Geneation of pseudo-random numbers using middle-square method by von Neumann. \n",
    "    \n",
    "    Keyword arguments:\n",
    "    seed -- Initial number. By default, seed = 0 \n",
    "    \n",
    "    Return:\n",
    "    sn -- final state  \n",
    "    counter -- the number of iterations    \n",
    "    already_seen_list -- a sequence of created numbers\n",
    "    \"\"\"\n",
    "```\n",
    "\n",
    "Pour le `seed=42` et `k=20`, vous devew obtenir :\n",
    "`[76, 77, 92, 46, 11, 12, 14, 19, 36, 29, 84, 5, 2, 0, 0, 0, 0, 0, 0, 0]`"
   ]
  },
  {
   "cell_type": "code",
   "execution_count": null,
   "id": "ee5f5133",
   "metadata": {},
   "outputs": [],
   "source": [
    "## Donnez votre code ici"
   ]
  },
  {
   "cell_type": "code",
   "execution_count": null,
   "id": "93d15fc8",
   "metadata": {},
   "outputs": [],
   "source": [
    "# Test avec seeds 1315, 7, 42\n",
    "\n",
    "print(vonNeumann_no_repeated(seed=1315))\n",
    "print(vonNeumann_no_repeated(seed=7))\n",
    "print(vonNeumann_no_repeated(seed=42))"
   ]
  },
  {
   "cell_type": "code",
   "execution_count": null,
   "id": "ae5a1b9a",
   "metadata": {},
   "outputs": [],
   "source": [
    "## Donnez votre code ici"
   ]
  },
  {
   "cell_type": "code",
   "execution_count": null,
   "id": "30548bf5",
   "metadata": {},
   "outputs": [],
   "source": [
    "# Test avec seed 42\n",
    "print(vonNeumann(seed=42, k=20))"
   ]
  },
  {
   "cell_type": "markdown",
   "id": "594d463a",
   "metadata": {},
   "source": [
    "<a name='congruence'></a>\n",
    "##### Générateurs à congruence linéaire"
   ]
  },
  {
   "cell_type": "markdown",
   "id": "1528e9c9",
   "metadata": {},
   "source": [
    "Introduits en 1948, les générateurs à congruence linéaire ont ensuite eu beaucoup de succès. L’idée est d'appliquer une transformation linéaire suivie d'une opération de congruence. Soit $S_0$ la graine. Pour chaque graine on obtient une suite de nombres pseudo-alétaoires de la façon suivante. Dans le cas discret,  :\n",
    "\n",
    "$$S = U = \\{0, ..., m\\}$$\n",
    "$$S_n = f(S_{n-1}) = (a \\cdot S_{n-1} + b)\\mod m$$\n",
    "$$X_n = g(S_n) = S_n$$\n",
    "\n",
    "Notons que du fait de l'opération $mod$, les termes de la suite sont compris entre 0 et $m-1$. Si on souhaite se ramener à l'intervalle $U = [0, 1]$, on appliquera $X_n = g(S_n) = S_n/m$. \n",
    "\n",
    "En outre, étant donné la dépendance de chaque terme du précédent, si un nombre apparaît une 2ème fois, toute la suite se reproduit à partir de ce nombre. La suite est donc amenée à se répéter au bout de certain temps. \n",
    "\n",
    "D'autres types de congruence peuvent être considérés. Par exemple, la fonction `rand` de `C` utilise par défaut une congruence de type polynomial.\n",
    "\n",
    "Nous étudierons dans ce TP deux générateurs à congruence linéaire :\n",
    "    \n",
    "* Standard Minimal\n",
    "* RANDU\n",
    "\n",
    "Les valeurs de paramètres de ce deux algorithmes sont données ci-dessous :\n",
    "\n",
    "| Algorithme | $$a$$ | $$b$$ | $$m$$ | \n",
    "|--|--|--|--|\n",
    "| Standard Minimal | $16807$ | $0$ | $2^{31}-1$ |\n",
    "| RANDU | $65539$ | $0$ | $2^{31}$ | "
   ]
  },
  {
   "cell_type": "markdown",
   "id": "61357efc",
   "metadata": {},
   "source": [
    "**Question 4:** Implémentez la fonction `linear_congruence` qui retourne une séquence de $n$ éléments en commeçant avec $S_0 = seed$ suivant la méthode de génération de nombres pseudo-aléatoires à congruence linéaire.\n",
    "\n",
    "```\n",
    "def linear_congruence(seed=0, a=65539, b=0, m=2**31, n=1):\n",
    "    \"\"\"\n",
    "    Geneation of n pseudo-random numbers using linear congruence method with parameters a, b and m . \n",
    "    S_n = (a * S_(n-1) + b) mod m\n",
    "    \n",
    "    Keyword arguments:\n",
    "    seed -- Initial number. By default, seed = 0 \n",
    "    a    -- Multiplier a in the formula\n",
    "    b    -- Increment b in the formula\n",
    "    m    -- Modulus m in the formula\n",
    "    \n",
    "    Return:\n",
    "    series -- a list of n generated numbers starting from seed   \n",
    "    xn -- a list of n generated numbers in the interval [0, 1]\n",
    "    \"\"\"\n",
    "```"
   ]
  },
  {
   "cell_type": "code",
   "execution_count": null,
   "id": "cc2a9090",
   "metadata": {},
   "outputs": [],
   "source": [
    "# Donnez votre code ici"
   ]
  },
  {
   "cell_type": "markdown",
   "id": "e87ac6a3",
   "metadata": {},
   "source": [
    "<a name='std-min'></a>\n",
    "###### *Standard Minimal* (MINSTD)\n",
    "\n",
    "MINSTD (Standard Minimal) est un générateur à congruence linéaire proposé en 1988 par Stephen K. Park et Keith W. Miller. Il est définiti par :\n",
    "$$S_n = 16807 \\cdot S_{n-1} \\mod (2^{31}-1)$$\n",
    "\n",
    "Le générateur est décrit sur $\\{0,...,2^{31}-2\\}$.\n",
    "\n",
    "En 1993, le multiplicateur $a = 48271$ était proposé au lieu de $16807$ et est utilisé par le générateur `minstd_rand` de [C++11](https://en.wikipedia.org/wiki/C%2B%2B11).\n",
    "\n",
    "**Question 5:** En vous servant de la fonction `linear_congruence` créé dans la *Question 1*, proposez une implémentation de la méthode MINSTD.\n",
    "\n",
    "```\n",
    "def minstd(seed=0, n=1):\n",
    "    \"\"\"\n",
    "    Generate a list of n pseudorandom numbers based on Standard Minimal algorithm starting with seed.\n",
    "    \"\"\"\n",
    "```\n",
    "\n",
    "Testez votre implémentation avec les paramètres : `seed=1`, `n=6`."
   ]
  },
  {
   "cell_type": "code",
   "execution_count": null,
   "id": "a966b081",
   "metadata": {},
   "outputs": [],
   "source": [
    "## Donnez votre code ici"
   ]
  },
  {
   "cell_type": "code",
   "execution_count": null,
   "id": "93de07ce",
   "metadata": {},
   "outputs": [],
   "source": [
    "## Donnez votre code ici\n",
    "\n",
    "# Test avec seed = 1 et n = 6"
   ]
  },
  {
   "cell_type": "markdown",
   "id": "9f0c9019",
   "metadata": {},
   "source": [
    "<a name='randu'></a>\n",
    "###### *RANDU*\n",
    "\n",
    "RANDU est un générateur à congruence linéaure qui était utilisé principalement dans les années 1960s et 1970s. Il est définit par récurrence :  \n",
    "$$S_n = 65539 \\cdot S_{n-1} \\mod 2^{31}$$\n",
    "avec la graine $S_0$ impair.  \n",
    "\n",
    "Le générateur est décrit sur $\\{0,...,2^{31}-1\\}$.\n",
    "\n",
    "Pour $S_0 = 1$, une séquence contenant 6 éléments est la suivante : \n",
    "$$\\matrix{1 & 65539 & 393225 & 1769499 & 7077969 & 26542323}$$\n",
    "\n",
    "**Question 6:** En vous servant de la fonction `linear_congruence` créé dans la *Question 1*, proposez une implémentation de la méthode RANDU.\n",
    "\n",
    "```\n",
    "def randu(seed=0, n=1):\n",
    "    \"\"\"\n",
    "    Generate a list of n pseudorandom numbers based on RANDU algorithm starting with seed.\n",
    "    \"\"\"\n",
    "```\n",
    "\n",
    "Testez votre implémentation avec les paramètres : `seed=1`, `n=6`."
   ]
  },
  {
   "cell_type": "code",
   "execution_count": null,
   "id": "dbf66d40",
   "metadata": {},
   "outputs": [],
   "source": [
    "## Donnez votre code ici"
   ]
  },
  {
   "cell_type": "code",
   "execution_count": null,
   "id": "11371205",
   "metadata": {},
   "outputs": [],
   "source": [
    "## Donnez votre code ici\n",
    "\n",
    "# Test avec seed = 1 et n = 6"
   ]
  },
  {
   "cell_type": "markdown",
   "id": "cfef51a9",
   "metadata": {},
   "source": [
    "<a name='graine'></a>\n",
    "##### Graine des générateurs\n",
    "\n",
    "Pour choisir la graine, dans le `Python` de base, on emploie la fonction [`random.seed(a=None)`](https://docs.python.org/3/library/random.html#random.seed) que l'on \"nourrit\" à l'aide d'un nombre. Si vous souhaitez faire une expérience reproductible, il faut initialiser la graine avec un nombre fixé. Ceci doit être utilisé notamment pour comparer des algorithmes. En effet les comparaisons sont alors réalisées sur deux jeux de données simulées identiques. Si le but est de générer une suite difficilement prévisible et qui varie rapidement, il faut l’initialiser avec un nombre qui varie rapidement. Par exemple, vous pouvez prendre le nombre de cycles utilisés par votre processeur depuis son démarrage. "
   ]
  },
  {
   "cell_type": "markdown",
   "id": "01a6d53f",
   "metadata": {},
   "source": [
    "<a name='tests'></a>\n",
    "#### Qualité de la séquence produite par un générateur pseudo-aléatoire"
   ]
  },
  {
   "cell_type": "markdown",
   "id": "4452601f",
   "metadata": {},
   "source": [
    "Nous testerons dans la suite les générateurs pseudo-aléatoires VonNeumann, RANDU, Standard Minimal. Il existe beaucoup de tests permettant de s’assurer de la qualité des nombres aléatoires produits (voir les suites de tests complètes du NIST [[6]](http://csrc.nist.gov/groups/ST/toolkit/rng/index.html) ou de DIEHARD [[7]](https://en.wikipedia.org/wiki/Diehard_tests) et [[10]](https://ani.stat.fsu.edu/diehard/)).\n",
    "\n",
    "Nous nous focaliserons sur le test visuel. \n",
    "\n",
    "Plus précisément,\n",
    "il s’agira de tester pour chacun des générateurs :\n",
    "* pour le premier test, visuel, sur une séquence de $n = 1000$ valeurs.\n",
    "* pour les trois derniers tests sur une séquence de $n = 100$ et pour 100 initialisations différentes.\n",
    "\n",
    "**Question 7 :** Générez $n=1000$ valeurs avec chaque algorithme, en fixant la graine.  "
   ]
  },
  {
   "cell_type": "code",
   "execution_count": null,
   "id": "99c40b20",
   "metadata": {},
   "outputs": [],
   "source": [
    "## Donnez votre code ici"
   ]
  },
  {
   "cell_type": "markdown",
   "id": "21a308ca",
   "metadata": {},
   "source": [
    "##### Test Visuel\n",
    "\n",
    "**Objectif :** vérifier le caractère uniforme des valeurs générées.\n",
    "\n",
    "**Question 8 :** Tracez, pour chacun des générateurs, l’histogramme des sorties observées pour une suite de $k = 100$ valeurs. Que constatez-vous ? Expliquez."
   ]
  },
  {
   "cell_type": "code",
   "execution_count": null,
   "id": "fc24be32",
   "metadata": {},
   "outputs": [],
   "source": [
    "import matplotlib.pyplot as plt"
   ]
  },
  {
   "cell_type": "code",
   "execution_count": null,
   "id": "2c47a9ff",
   "metadata": {},
   "outputs": [],
   "source": [
    "## Donnez votre code ici"
   ]
  },
  {
   "cell_type": "markdown",
   "id": "2e8bc2e8",
   "metadata": {},
   "source": [
    "**Commentaires / remarques :** <span style=\"color:red\">Donnez vos commentaires ici</span>"
   ]
  },
  {
   "cell_type": "markdown",
   "id": "328b849d",
   "metadata": {},
   "source": [
    "**Question 9 :** Tracez la valeur obtenue en fonction de la valeur précédente de l’algorithme. Plus précisément, à partir d’un vecteur $u$ de taille $n$, exécutez\n",
    "`plot(u[0:(n-2)], u[1:n-1])`\n",
    "\n",
    "Commentez."
   ]
  },
  {
   "cell_type": "code",
   "execution_count": null,
   "id": "3ffbe5e3",
   "metadata": {},
   "outputs": [],
   "source": [
    "## Donnez votre code ici"
   ]
  },
  {
   "cell_type": "markdown",
   "id": "638b8458",
   "metadata": {},
   "source": [
    "**Commentaires / remarques :** <span style=\"color:red\">Donnez vos commentaires ici</span>"
   ]
  },
  {
   "cell_type": "markdown",
   "id": "8e8e915d",
   "metadata": {},
   "source": [
    "### Autres lois"
   ]
  },
  {
   "cell_type": "markdown",
   "id": "97253cf7",
   "metadata": {},
   "source": [
    "L'objectif de cette section est d'étudier comment les différents phénomènes aléatoires peuvent être simulés à partir de la distribution uniforme sur $[0, 1]$, $U \\sim \\mathcal{U}_{[0,1]}$. \n",
    "\n",
    "Afin de génerer un nombre à partir de la loi uniforme, nous pouvons nous servir de la fonction\n",
    "[`random.random()`](https://docs.python.org/3/library/random.html#random.random) ou [`random.uniform(a, b)`](https://docs.python.org/3/library/random.html#random.uniform), où $a$ et $b$ sont des bornes d'intervalle sur lequel la variable aléatoire est définie. "
   ]
  },
  {
   "cell_type": "code",
   "execution_count": null,
   "id": "8d79be4b",
   "metadata": {
    "ExecuteTime": {
     "end_time": "2023-03-13T01:23:14.102322Z",
     "start_time": "2023-03-13T01:23:14.089364Z"
    }
   },
   "outputs": [],
   "source": [
    "# nombre pseudo-aléatoire réel de la loi uniforme sur [0, 1) et la loi uniforme\n",
    "from random import random, uniform"
   ]
  },
  {
   "cell_type": "code",
   "execution_count": null,
   "id": "2e3e662b",
   "metadata": {
    "ExecuteTime": {
     "end_time": "2023-03-13T01:23:14.118107Z",
     "start_time": "2023-03-13T01:23:14.104302Z"
    }
   },
   "outputs": [],
   "source": [
    "# nombre aléatoire entre 0 et 1\n",
    "u1 = random()\n",
    "print(u1)\n",
    "u2 = uniform(a=0, b=1)\n",
    "print(u2)"
   ]
  },
  {
   "cell_type": "markdown",
   "id": "8ecdb240",
   "metadata": {},
   "source": [
    "Nous allons considérer 2 cas : discrèt et continue."
   ]
  },
  {
   "cell_type": "markdown",
   "id": "fcaad3cf",
   "metadata": {},
   "source": [
    "### Lois discrètes"
   ]
  },
  {
   "cell_type": "markdown",
   "id": "57ed4294",
   "metadata": {},
   "source": [
    "Soit $U \\sim \\mathcal{U}_{[0,1]}$, $X$ une v.a.r. discrète à valeurs $\\{x_1, x_2, ..., x_n\\}$ et $\\mathbb{P}(X = x_i) = p_i$, $\\sum_{i}p_i = 1$.\n",
    "\n",
    "Afin de simuler la distribution de $X$, nous divisons l'intervalle $[0, 1]$ en sous-intervalles tels que la longeur de sous-intervalle $i$ est $p_i$ :\n",
    "\n",
    "$$X = \\left\\{\\begin{array}{ll} x_0 & \\text{si } U < p_0 \\\\ \n",
    "x_1 & \\text{si } p_0 \\leq U < p_0 + p_1 \\\\  \n",
    "... \\\\\n",
    "x_j & \\text{si } \\sum_{k=0}^{j-1}p_k \\leq U < \\sum_{k=0}^{j}p_k \n",
    "\\end{array}\\right.$$\n",
    "\n",
    "Autrement dit :\n",
    "$$X = x_j \\text{ si } F(x_{j-1}) \\leq U < F(x_j)$$\n",
    "où $F(x)$ est la fonction de répartition de $X$.\n",
    "\n",
    "$$\\mathbb{P}(X=x_j) = \\mathbb{P}\\left(\\sum_{k=0}^{j_1}p_k \\leq U < \\sum_{k=0}^{j}p_k\\right) = p_j$$"
   ]
  },
  {
   "cell_type": "markdown",
   "id": "be50d610",
   "metadata": {},
   "source": [
    "#### Loi de Bernoulli"
   ]
  },
  {
   "cell_type": "markdown",
   "id": "fa6c3197",
   "metadata": {},
   "source": [
    "Soit $X$ une v.a.r. discrète qui suit la loi de Bernoulli avec le paramètre $p$, $\\mathcal{B}(p)$, e.g. un lancement d'une pièce. Alors, nous pouvons présenter la v.a.r. $X$ somme suit :\n",
    "\n",
    "$$X = \\left\\{\\begin{array}{ll} 1 & \\text{si } U < p \\\\ \n",
    "0 & \\text{si } U \\geq p\\end{array}\\right.$$\n",
    "\n",
    "Alors : \n",
    "$$\\mathbb{P}(succès) = \\mathbb{P}(X = 1) = \\mathbb{P}(U < p) = p$$\n",
    "\n",
    "Notons que dans ce cas-là, l'intervalle $[0, 1]$ est divisé en 2 partie : un de la langueur $p$ et l'autre de longueur $1-p$. La valeur de $X$ est alors définie par la condition dans quelle partie la valeur de $U$ tombe. \n",
    "\n",
    "Ecrivez la fonction `bernoulli(p)` qui calcule une valeur de $X$ qui suit la loi de Bernoulli avec le paramètre $p$.\n",
    "\n",
    "```\n",
    "def bernoulli(p=0.5):\n",
    "    \"\"\"\n",
    "    Simulation d'un Bernoulli avec le paramètre p.\n",
    "    \n",
    "    Keyword arguments:\n",
    "    p -- probabilité de succès. Par défaut, 0.5 \n",
    "    \n",
    "    Return:\n",
    "    valeur binaire de réalisation de la loi de Bernoulli\n",
    "    \"\"\"\n",
    "```"
   ]
  },
  {
   "cell_type": "code",
   "execution_count": null,
   "id": "e7f105a3",
   "metadata": {
    "ExecuteTime": {
     "end_time": "2023-03-13T01:23:14.133624Z",
     "start_time": "2023-03-13T01:23:14.121104Z"
    }
   },
   "outputs": [],
   "source": [
    "## Donnez votre code ici"
   ]
  },
  {
   "cell_type": "markdown",
   "id": "26ea3e38",
   "metadata": {},
   "source": [
    "#### Lancement d'une pièce"
   ]
  },
  {
   "cell_type": "markdown",
   "id": "9e310e3e",
   "metadata": {},
   "source": [
    "Ecrivez une simulation de 1000 lancements d'une pièce équilibrée et tracer la probabilité estimée (proportion de nombre de piles) en fonction de nombre de lancements (de 0 jusqu'à 1000).\n",
    "\n",
    "```\n",
    "def coin_toss(nsimu=1000, p=0.5):\n",
    "    \"\"\"\n",
    "    Simulation de nsimu réalisation de Bernoulli (lancement d'une pièce) avec le paramètre p.\n",
    "    \n",
    "    \n",
    "    Keyword arguments:\n",
    "    nsimu -- nombre de simulations. Par défaut, 1000\n",
    "    p -- probabilité de succès. Par défaut, 0.5 \n",
    "    \n",
    "    Return:\n",
    "    le nombre cumulative de réussites en commençant avec 0 sur les 1000 runs et la proportion de réussites\n",
    "    \"\"\"\n",
    "```\n",
    "\n",
    "Afin de calculer le nombre de piles sur $i$ lancement, il est possible de calculer la somme comulative avec `numpy.cumsum()`."
   ]
  },
  {
   "cell_type": "code",
   "execution_count": null,
   "id": "42cd466b",
   "metadata": {
    "ExecuteTime": {
     "end_time": "2023-03-13T01:23:14.911283Z",
     "start_time": "2023-03-13T01:23:14.135108Z"
    }
   },
   "outputs": [],
   "source": [
    "import numpy as np # calculs numériques\n",
    "import matplotlib.pyplot as plt # graphiques"
   ]
  },
  {
   "cell_type": "code",
   "execution_count": null,
   "id": "66f4166b",
   "metadata": {
    "ExecuteTime": {
     "end_time": "2023-03-13T01:23:14.944105Z",
     "start_time": "2023-03-13T01:23:14.915225Z"
    }
   },
   "outputs": [],
   "source": [
    "## Donnez votre code ici"
   ]
  },
  {
   "cell_type": "code",
   "execution_count": null,
   "id": "4583bd78",
   "metadata": {
    "ExecuteTime": {
     "end_time": "2023-03-13T01:23:15.131634Z",
     "start_time": "2023-03-13T01:23:14.945038Z"
    }
   },
   "outputs": [],
   "source": [
    "## Donnez votre code ici\n",
    "# visualisation \n"
   ]
  },
  {
   "cell_type": "markdown",
   "id": "3863ab85",
   "metadata": {
    "ExecuteTime": {
     "end_time": "2023-03-13T00:26:54.438902Z",
     "start_time": "2023-03-13T00:26:54.423918Z"
    }
   },
   "source": [
    "**Conclusions / commentaires :** <span style=\"color:red\">Donnez vos commentaires ici</span>"
   ]
  },
  {
   "cell_type": "markdown",
   "id": "03db4342",
   "metadata": {
    "ExecuteTime": {
     "end_time": "2023-03-13T00:28:45.059061Z",
     "start_time": "2023-03-13T00:28:45.037084Z"
    }
   },
   "source": [
    "### Lois continues : Loi Normale Centrée Réduite"
   ]
  },
  {
   "cell_type": "markdown",
   "id": "7cec8cd1",
   "metadata": {},
   "source": [
    "Parmi les lois continues, nous allons nous intéresser au cas de la loi normale centrée réduite, $\\mathcal{N}(0, 1)$ de la fonction de densité $\\varphi(z) = \\frac{e^{-\\frac{z^2}{2}}}{\\sqrt{2\\pi}}$. \n",
    "\n",
    "Dans le but de la simultation, nous allons étudier la [méthode de Box-Muller](https://fr.wikipedia.org/wiki/M%C3%A9thode_de_Box-Muller) : \n",
    "\n",
    "Soient $U_1$ et $U_2$ deux v.a.r. indépendentes qui suivent la loi uniforme. Alors une paire de v.a.r. $Z_1$ et $Z_2$ suivant la loi normale centrée réduite peut être généréé selon la transformation suivante :\n",
    "\n",
    "$$\\left\\{ \\begin{array}{l} Z_1 = \\sqrt{-2 \\ln{U_1}} \\cos(2\\pi U_2) \\\\ Z_2 = \\sqrt{-2 \\ln{U_1}} \\sin(2\\pi U_2) \\end{array} \\right.$$\n",
    "\n",
    "Ecrivez la fonction `loi_normale()` qui génère 2 v.a.r. qui suivent la loi normale centrée réduite avec la méthode de Box-Muller. \n",
    "\n",
    "```\n",
    "def loi_normale():\n",
    "    \"\"\"\n",
    "    Génère deux variables aléatoires suivant la loi normale centrée réduite avec la méthode de Box-Muller.\n",
    "    \n",
    "    Return:\n",
    "    z1, z2 -- deux v.a.r. de la loi normale centrée réduite\n",
    "    \"\"\"\n",
    "```\n",
    "\n",
    "Quelques astuces :\n",
    "- Afin de calculer la racine carré de $x$, nous pouvons utiliser la fonction `math.sqrt(x)`\n",
    "- Afin de calculer log de $x$, nous pouvons utiliser la fonction `math.log(x)`\n",
    "- Le nombre $\\pi$ peut être obtenu comme `math.pi`"
   ]
  },
  {
   "cell_type": "code",
   "execution_count": null,
   "id": "84a6c0a9",
   "metadata": {
    "ExecuteTime": {
     "end_time": "2023-03-13T01:23:15.147555Z",
     "start_time": "2023-03-13T01:23:15.134597Z"
    }
   },
   "outputs": [],
   "source": [
    "import math"
   ]
  },
  {
   "cell_type": "code",
   "execution_count": null,
   "id": "dafd10ae",
   "metadata": {
    "ExecuteTime": {
     "end_time": "2023-03-13T01:23:15.162624Z",
     "start_time": "2023-03-13T01:23:15.149477Z"
    }
   },
   "outputs": [],
   "source": [
    "## Donnez votre code ici"
   ]
  },
  {
   "cell_type": "markdown",
   "id": "ada0817c",
   "metadata": {},
   "source": [
    "Générez 5000 paires de v.a.r. suivant la loi normale centrée réduite."
   ]
  },
  {
   "cell_type": "code",
   "execution_count": null,
   "id": "3fec4c43",
   "metadata": {
    "ExecuteTime": {
     "end_time": "2023-03-13T01:23:15.272067Z",
     "start_time": "2023-03-13T01:23:15.168530Z"
    }
   },
   "outputs": [],
   "source": [
    "## Donnez votre code ici"
   ]
  },
  {
   "cell_type": "markdown",
   "id": "7e874b95",
   "metadata": {},
   "source": [
    "Visualisez les variables $Z_1$ sous forme d'un histogramme. Tracez la courbe de la loi normale centrée réduite par dessus. Commentez.\n",
    "\n",
    "Quelques astuces :\n",
    "- Afin de créer un histogram, nous pouvons utilisez la fonction [`plt.hist()`](https://matplotlib.org/stable/api/_as_gen/matplotlib.pyplot.hist.html)\n",
    "- Pour que l'histogramme se base sur la fréquence, utilisez l'option `density=True` de `plt.hist()`, e.g. `plt.hist(z1, density=True)`\n",
    "- Avant de tracer la loi normale centrée réduite, vous pouvez créer des valeurs à tracer comme suit :"
   ]
  },
  {
   "cell_type": "code",
   "execution_count": null,
   "id": "ecdc24e4",
   "metadata": {
    "ExecuteTime": {
     "end_time": "2023-03-13T01:23:15.727779Z",
     "start_time": "2023-03-13T01:23:15.273068Z"
    }
   },
   "outputs": [],
   "source": [
    "from scipy.stats import norm # loi normale centrée réduite\n",
    "mu = 0\n",
    "variance = 1\n",
    "sigma = math.sqrt(variance)\n",
    "x = np.linspace(mu - 4*sigma, mu + 4*sigma, 100)\n",
    "y = norm.pdf(x, mu, sigma) # fonction de densité avec les params mu et sigma"
   ]
  },
  {
   "cell_type": "code",
   "execution_count": null,
   "id": "db17ede2",
   "metadata": {
    "ExecuteTime": {
     "end_time": "2023-03-13T01:23:16.215763Z",
     "start_time": "2023-03-13T01:23:15.731812Z"
    }
   },
   "outputs": [],
   "source": [
    "## Donnez votre code ici\n",
    "# visualisation"
   ]
  },
  {
   "cell_type": "markdown",
   "id": "4f2e6f91",
   "metadata": {},
   "source": [
    "**Conclusions / commentaires :** <span style=\"color:red\">Donnez vos commentaires ici</span>"
   ]
  },
  {
   "cell_type": "code",
   "execution_count": null,
   "id": "e3b00d6d",
   "metadata": {},
   "outputs": [],
   "source": []
  }
 ],
 "metadata": {
  "kernelspec": {
   "display_name": "Python 3 (ipykernel)",
   "language": "python",
   "name": "python3"
  },
  "language_info": {
   "codemirror_mode": {
    "name": "ipython",
    "version": 3
   },
   "file_extension": ".py",
   "mimetype": "text/x-python",
   "name": "python",
   "nbconvert_exporter": "python",
   "pygments_lexer": "ipython3",
   "version": "3.10.13"
  },
  "toc": {
   "base_numbering": 1,
   "nav_menu": {},
   "number_sections": true,
   "sideBar": true,
   "skip_h1_title": false,
   "title_cell": "Table of Contents",
   "title_sidebar": "Contents",
   "toc_cell": false,
   "toc_position": {},
   "toc_section_display": true,
   "toc_window_display": true
  }
 },
 "nbformat": 4,
 "nbformat_minor": 5
}
