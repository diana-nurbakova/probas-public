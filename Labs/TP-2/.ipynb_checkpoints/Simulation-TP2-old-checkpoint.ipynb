{
 "cells": [
  {
   "cell_type": "markdown",
   "id": "cad35377",
   "metadata": {},
   "source": [
    "# Problème *Monty Hall* avec Simulation Monte-Carlo"
   ]
  },
  {
   "cell_type": "markdown",
   "id": "a7b871a8",
   "metadata": {},
   "source": [
    "Il existe un casse-tête probabiliste [*le problème de Monty Hall*](https://fr.wikipedia.org/wiki/Probl%C3%A8me_de_Monty_Hall) aussi appelé *paradoxe de Monty Hall*, inspiré du jeu télévisé américain [*Let's Make a Deal*](https://fr.wikipedia.org/wiki/Let%27s_Make_a_Deal) présenté par [Monty Hall](https://fr.wikipedia.org/wiki/Monty_Hall). \n",
    "\n",
    "Le problème peut être formulé de la façon suivante: \n",
    "\n",
    "La personne est placée devant trois portes fermées.\n",
    "\n",
    "<img src=\"img/3-doors.png\" alt=\"Trois portes fermées\" width=\"400px\">\n",
    "\n",
    "Derrière une porte se trouve un prix et derrière deux autres une chèvre. \n",
    "\n",
    "La personne choisit une porte qui reste fermée :\n",
    "\n",
    "<img src=\"img/choice-1.png\" alt=\"1er choix d'une porte\" width=\"400px\">\n",
    "\n",
    "Le.a présentateur.rice, qui sait ce qu'il y a derrière chaque porte, ouvre une des portes qui restent derrière laquelle se trouve une chèvre :\n",
    "\n",
    "<img src=\"img/goat-revealed.png\" alt=\"Une chèvre est dévoilée derrière une des portes\" width=\"400px\">\n",
    "\n",
    "La personne a alors le choix : soit ouvrir la porte choisie initiallement, soit ouvrir une autre porte (i.e. changer son avis).  \n",
    "<img src=\"img/question.png\" alt=\"Quelle porte choisir?\" width=\"620px\">\n",
    "\n",
    "> A la personne intérêt à changer son choix initial ? \n",
    "\n",
    "> Quelles sont ses chances de gagner le prix en agissant au mieux ?\n",
    "\n",
    "<img style=\"float: right;\" src=\"https://allthatsinteresting.com/wordpress/wp-content/uploads/2018/03/portrait-of-marilyn-vos-savant.jpg\" alt=\"Marilyn Vos Savant's portrait, source: allthatsinteresting.com, under Wikimedia Commons license\" width=\"150px\"> Ce problème est devenu connu par le grand public grâce à [Marilyn vos Savant](https://fr.wikipedia.org/wiki/Marilyn_vos_Savant), une femme possédant l'un des quotients intellectuels les plus élevés au monde, indiqué par le *Guiness Book of records*. Elle publie l'énoncé et sa réponse dans sa rubrique *Ask Marilyn* de Parade Magazine en septembre 1990 :\n",
    "\n",
    "*Suppose you're on a game show, and you're given the choice of three doors: Behind one door is a car; behind the others, goats. You pick a door, say No. 1, and the host, who knows what's behind the doors, opens another door, say No. 3, which has a goat. He then says to you, \" Do you want to pick door No. 2? \" Is it to your advantage to switch your choice?*\n",
    "\n",
    "Afin de répondre à cette question, nous allons d'abord approcher ce problème de point de vue probabiliste, et ensuite nous allons faire une simulation."
   ]
  },
  {
   "cell_type": "markdown",
   "id": "ae31c2ae",
   "metadata": {},
   "source": [
    "## Approche probabiliste"
   ]
  },
  {
   "cell_type": "markdown",
   "id": "3b6685fd",
   "metadata": {},
   "source": [
    "Soit $A = \\text{\\{la personne gagne le prix\\}}$ et $B = \\text{\\{la personne a choisi la bonne porte\\}}$. Alors, selon la formule de probabilité totale :\n",
    "\n",
    "$$\\mathbb{P}(A) = \\mathbb{P}(A|B)\\times \\mathbb{P}(B) + \\mathbb{P}(A|\\bar{B})\\times \\mathbb{P}(\\bar{B})$$\n",
    "\n",
    "Notons que la probabilité que la personne a choisi la bonne porte, $\\mathbb{P}(B) = \\frac{1}{3}$ lorsqu'il y a un seul prix derrière 3 portes. Et $\\mathbb{P}(\\bar{B}) = \\frac{2}{3}$. Ainsi, nous obtenons : \n",
    "\n",
    "$$\\mathbb{P}(A) = \\mathbb{P}(A|B)\\times \\mathbb{P}(B) + \\mathbb{P}(A|\\bar{B})\\times \\mathbb{P}(\\bar{B}) = \\mathbb{P}(A|B)\\times \\frac{1}{3} + \\mathbb{P}(A|\\bar{B})\\times \\frac{2}{3}$$\n",
    "\n",
    "Considérons le cas, où **la personne garde son choix initial** :\n",
    "\n",
    "* la probabilité de gagner sachant que la porte choisie est bonne est 1, i.e. $\\mathbb{P}(A|B) = 1$\n",
    "* la probabiilté de gagner sachant que la porte choisie n'est pas bonne est 0, i.e. $\\mathbb{P}(A|\\bar{B}) = 0$\n",
    "\n",
    "Dans ce cas là : \n",
    "$$\\mathbb{P}(A) = \\mathbb{P}(A|B)\\times \\mathbb{P}(B) + \\mathbb{P}(A|\\bar{B})\\times \\mathbb{P}(\\bar{B}) = \\mathbb{P}(A|B)\\times \\frac{1}{3} + \\mathbb{P}(A|\\bar{B})\\times \\frac{2}{3} = 1\\times \\frac{1}{3} + 0\\times \\frac{2}{3} = \\mathbf{\\frac{1}{3}}$$\n",
    "\n",
    "<img src=\"img/tree-remain-initial-choice.png\" alt=\"Arbre des probabilités si la stratégie est de garder le choix initial\" width=\"620px\">\n",
    "\n",
    "\n",
    "\n",
    "Maintenant, considérons le cas où **la personne change son avis** :\n",
    "\n",
    "* si la personne a choisi initiallement une bonne porte, la probabilité de gagner si elle change par la suite est 0, i.e. $\\mathbb{P}(A|B) = 0$\n",
    "* si la personne a choisi initiallement une bonne porte, la probabilité de gagner si elle change par la suite est 1, i.e. $\\mathbb{P}(A|\\hat{B}) = 1$.\n",
    "\n",
    "Donc : \n",
    "$$\\mathbb{P}(A) = \\mathbb{P}(A|B)\\times \\mathbb{P}(B) + \\mathbb{P}(A|\\bar{B})\\times \\mathbb{P}(\\bar{B}) = \\mathbb{P}(A|B)\\times \\frac{1}{3} + \\mathbb{P}(A|\\bar{B})\\times \\frac{2}{3} = 0\\times \\frac{1}{3} + 1\\times \\frac{2}{3} = \\mathbf{\\frac{2}{3}}$$\n",
    "\n",
    "<img src=\"img/tree.png\" alt=\"Arbre des probabilités si la stratégie est de changer le choix initial\" width=\"620px\">\n",
    "\n",
    "Autrement dit, initialement les probabilités des gagner se répartissent de la façon suivante :\n",
    "\n",
    "<img src=\"img/doors-prob.png\" alt=\"Probabilité de gagner initialement\" width=\"400px\">\n",
    "\n",
    "Une fois qu'une chèvre est dévoilée, la probabilité de gagner se répartit de la façon suivante :\n",
    "\n",
    "<img src=\"img/doors-prob-goat.png\" alt=\"Probabilité de gagner initialement\" width=\"400px\">\n"
   ]
  },
  {
   "cell_type": "markdown",
   "id": "f9a27507",
   "metadata": {},
   "source": [
    "## Simulation"
   ]
  },
  {
   "cell_type": "markdown",
   "id": "67cd7858",
   "metadata": {},
   "source": [
    "Vérifions le raisonement ci-dessous avec une simulation. \n",
    "\n",
    "Nous allons avoir besoin de générateur de pseudo-aléatoire. Nous pouvons utiliser le module [`random`](https://docs.python.org/3/library/random.html)."
   ]
  },
  {
   "cell_type": "code",
   "execution_count": 6,
   "id": "b9293610",
   "metadata": {
    "ExecuteTime": {
     "end_time": "2023-03-12T21:51:05.711830Z",
     "start_time": "2023-03-12T21:51:05.693145Z"
    }
   },
   "outputs": [],
   "source": [
    "# chargement du module de générateur de nombre pseudo-aléatoires\n",
    "from random import randint, choice "
   ]
  },
  {
   "cell_type": "markdown",
   "id": "b3999af1",
   "metadata": {},
   "source": [
    "Afin de choisir un nombre entier $N$ compris entre $a$ et $b$ (i.e. $a \\leq N \\leq b$), on peut utiliser la fonction [`random.randint(a, b)`](https://docs.python.org/3/library/random.html#random.randint), e.g. :"
   ]
  },
  {
   "cell_type": "code",
   "execution_count": 4,
   "id": "76471826",
   "metadata": {
    "ExecuteTime": {
     "end_time": "2023-03-12T21:36:11.943362Z",
     "start_time": "2023-03-12T21:36:11.921274Z"
    }
   },
   "outputs": [
    {
     "data": {
      "text/plain": [
       "4"
      ]
     },
     "execution_count": 4,
     "metadata": {},
     "output_type": "execute_result"
    }
   ],
   "source": [
    "# choisir un nombre entre 1 et 6\n",
    "randint(1, 6)"
   ]
  },
  {
   "cell_type": "markdown",
   "id": "dc672e32",
   "metadata": {},
   "source": [
    "Afin de choisi un élément d'une séquence `s` d'une manière aléatoire, on peut utiliser la fonction [`random.choice()`](https://docs.python.org/3/library/random.html#random.choice), e.g.:"
   ]
  },
  {
   "cell_type": "code",
   "execution_count": 7,
   "id": "326febb0",
   "metadata": {
    "ExecuteTime": {
     "end_time": "2023-03-12T21:53:28.386441Z",
     "start_time": "2023-03-12T21:53:28.363818Z"
    }
   },
   "outputs": [
    {
     "data": {
      "text/plain": [
       "'b'"
      ]
     },
     "execution_count": 7,
     "metadata": {},
     "output_type": "execute_result"
    }
   ],
   "source": [
    "# liste (séquence d'éléments)\n",
    "s = ['a', 'b', 'c']\n",
    "# choisir un élément\n",
    "choice(s)"
   ]
  },
  {
   "cell_type": "markdown",
   "id": "c7065f4b",
   "metadata": {},
   "source": [
    "### Exemple de simulation (lancements d'un dé)"
   ]
  },
  {
   "cell_type": "markdown",
   "id": "6cb277e4",
   "metadata": {},
   "source": [
    "Imaginons que le problème traité est le suivant. Nous lancons un dé équilibré 6 fois. Ce qui nous intéresse est la probabilité d'avoir 6 valeurs différentes lors de ces lancements. \n",
    "\n",
    "De point de vue probabiliste, cette probabilité est égale à :\n",
    "\n",
    "$$\\frac{6}{6} \\times \\frac{5}{6} \\times \\frac{4}{6} \\times \\frac{3}{6} \\times \\frac{2}{6} \\times \\frac{1}{6} = \\frac{6!}{6^6} = 0.015$$"
   ]
  },
  {
   "cell_type": "code",
   "execution_count": 2,
   "id": "b6aa16cf",
   "metadata": {
    "ExecuteTime": {
     "end_time": "2023-03-12T21:18:38.766077Z",
     "start_time": "2023-03-12T21:18:38.752146Z"
    }
   },
   "outputs": [
    {
     "data": {
      "text/plain": [
       "0.015432098765432098"
      ]
     },
     "execution_count": 2,
     "metadata": {},
     "output_type": "execute_result"
    }
   ],
   "source": [
    "import math \n",
    "# calculons la valeur précédente\n",
    "math.factorial(6) / 6**6"
   ]
  },
  {
   "cell_type": "markdown",
   "id": "55cd43cf",
   "metadata": {},
   "source": [
    "Passons à la simulation en identifiant des points suivants :\n",
    "\n",
    "* *variables à controler* : les résultats de 6 lancements d'un dé\n",
    "* *distribution de chaque variable* : uniforme discrète, 1/6 pour chaque côté :\n",
    "|1|2|3|4|5|6|\n",
    "|--|--|--|--|--|--|\n",
    "|$$\\frac{1}{6}$$|$$\\frac{1}{6}$$|$$\\frac{1}{6}$$|$$\\frac{1}{6}$$|$$\\frac{1}{6}$$|$$\\frac{1}{6}$$|\n",
    "* *boucle* (à répéter autant de fois que le nombre d'essais) :\n",
    "    - *réalisation d'une variable aléatoire* : un lancement d'un dé\n",
    "    - *calcul déterministe du résultat* : ajout de résultat de la réalisation dans un ensemble (`set`). Si la taille de cet ensemble au bout de 6 lancement est égale à 6 (nombre de lancement), donc tous les lancements ont eu des résultats différents. Si c'est le cas, on incrémente la valeur de variable-compteur de succès. \n",
    "* *Agrégation de résultat* : diviser le nombre de succès par le nombre d'essais pour avoir la probabilité"
   ]
  },
  {
   "cell_type": "code",
   "execution_count": 5,
   "id": "6f98a5bd",
   "metadata": {
    "ExecuteTime": {
     "end_time": "2023-03-12T21:48:21.098572Z",
     "start_time": "2023-03-12T21:48:14.982852Z"
    }
   },
   "outputs": [
    {
     "name": "stdout",
     "output_type": "stream",
     "text": [
      "La probabilité du succès : 0.015344\n"
     ]
    }
   ],
   "source": [
    "# nombre d'essais\n",
    "trials = 1000000\n",
    "# initialisation du compteur de succès \n",
    "success = 0\n",
    "# nombre de lancement de dé\n",
    "rolls = 6\n",
    "# répétitions selon le nombre d'essais\n",
    "for i in range(trials):\n",
    "    # ensemble de résultats uniques lors de lancements\n",
    "    faces = set() \n",
    "    # pour chaque lancement \n",
    "    for j in range(rolls):\n",
    "        # réalisation d'une distribution uniforme sur [1, 6]\n",
    "        res = randint(1, 6)\n",
    "        # ajout de résultat dans l'ensemble faces\n",
    "        faces.add(res)\n",
    "    # test si le nombre de valeurs dans faces est égale à nombre de lancements de dé \n",
    "    if len(faces) == rolls :\n",
    "        # incrémente le succès\n",
    "        success += 1\n",
    "# calcul de la probabilité du succès\n",
    "prob = success / trials\n",
    "# affichage du résultat\n",
    "print(f\"La probabilité du succès : {prob}\")"
   ]
  },
  {
   "cell_type": "markdown",
   "id": "751de9e6",
   "metadata": {},
   "source": [
    "Notons qu'on obtient le résultat conforme avec la valeur théorique."
   ]
  },
  {
   "cell_type": "markdown",
   "id": "9e05dd39",
   "metadata": {},
   "source": [
    "### Application au problème de Monty Hall "
   ]
  },
  {
   "cell_type": "markdown",
   "id": "5db47635",
   "metadata": {},
   "source": [
    "Soit `doors = [\"A\", \"B\", \"C\"]` une liste contenant les options pour les portes. \n",
    "Ecrivez la fonction `simulation_monty_hall(trials)` qui prend en paramètre le nombre de runs à faire (`trials`) et choisit la porte gagnante et la porte \"choix initial\" de la personne d'une manière aléatoire à partir de `doors`, et agrège les résultats de victoire en choisissant soit la porte initiale, soit en changeant la porte une fois une chèvre dévoilée. Si le choix initial est gagnant, alors c'est la stratégie de garder le choix initial qui gagne, sinon c'est la stratégie de changer la porte qui gagne.\n",
    "\n",
    "```\n",
    "def simulation_monty_hall(trials=10000):\n",
    "    \"\"\"\n",
    "    Simulation du problème de Monty Hall. La porte gagnante et la porte choisie initialement par l'utilisateur \n",
    "    sont choisies d'une manière aléatoire.\n",
    "    \n",
    "    Keyword arguments:\n",
    "    trials --  nombre de simulations (essais). Par défaut, 10000 \n",
    "    \n",
    "    Return:\n",
    "    un dictionnaire contenant le nombre de fois que la porte choisie initialement gagne (initial) et \n",
    "    le nombre de fois où la stratégie de changer la porte gagne (change)\n",
    "    \"\"\"\n",
    "```"
   ]
  },
  {
   "cell_type": "code",
   "execution_count": 9,
   "id": "a82caee1",
   "metadata": {
    "ExecuteTime": {
     "end_time": "2023-03-12T22:30:14.613692Z",
     "start_time": "2023-03-12T22:30:14.597735Z"
    }
   },
   "outputs": [],
   "source": [
    "## CORRECTION\n",
    "def simulation_monty_hall(trials=10000):\n",
    "    \"\"\"\n",
    "    Simulation du problème de Monty Hall. La porte gagnante et la porte choisie initialement par l'utilisateur \n",
    "    sont choisies d'une manière aléatoire.\n",
    "    \n",
    "    Keyword arguments:\n",
    "    trials --  nombre de simulations (essais). Par défaut, 10000 \n",
    "    \n",
    "    Return:\n",
    "    un dictionnaire contenant le nombre de fois que la porte choisie initialement gagne (initial) et \n",
    "    le nombre de fois où la stratégie de changer la porte gagne (change)\n",
    "    \"\"\"\n",
    "    # le nombre de fois le choix initial gagne\n",
    "    initial_choice_wins = 0\n",
    "    # le nombre de fois le changement gagne\n",
    "    change_wins = 0\n",
    "    # les 3 portes \n",
    "    doors = [\"A\", \"B\", \"C\"]\n",
    "    \n",
    "    # pour chaque essai \n",
    "    for i in range(trials):\n",
    "        # choisir aléatoirement la porte qui gagne\n",
    "        winner = choice(doors)\n",
    "        # choisir aléatoirement le choix initial de la personne\n",
    "        initial_choice = choice(doors)\n",
    "        \n",
    "        # test si la porte choisie initialement est gagnante\n",
    "        if initial_choice == winner :\n",
    "            # incrémente initial_choice_wins\n",
    "            initial_choice_wins += 1\n",
    "        # sinon\n",
    "        else :\n",
    "            # incrémente\n",
    "            change_wins += 1\n",
    "    \n",
    "    return {'initial' : initial_choice_wins, 'change' : change_wins}"
   ]
  },
  {
   "cell_type": "markdown",
   "id": "e854439e",
   "metadata": {},
   "source": [
    "Faites les simulations pour le nombre de runs 10, 100, 1000, 10000, 50000, 100000, 1000000. Afficher les statistiques suivantes :\n",
    "- le nombre de runs\n",
    "- le nombre de fois la stratégie de garder le choix initial (stratégie 1) gagne\n",
    "- le nombre de fois la stratégie de changer (stratégie 2) gagne \n",
    "- la probabilité de gagner avec la stratégie 1 \n",
    "- la probabilité de gagner avec la stratégie 2 \n",
    "\n",
    "Commentez."
   ]
  },
  {
   "cell_type": "code",
   "execution_count": 13,
   "id": "e73f45c1",
   "metadata": {
    "ExecuteTime": {
     "end_time": "2023-03-12T22:49:59.201156Z",
     "start_time": "2023-03-12T22:49:58.129868Z"
    }
   },
   "outputs": [
    {
     "name": "stdout",
     "output_type": "stream",
     "text": [
      "{10: {'nb_runs': 10, 'initial_wins_nb': 4, 'change_wins_nb': 6, 'initial_wins_proba': 0.4, 'change_wins_proba': 0.6}, 100: {'nb_runs': 100, 'initial_wins_nb': 26, 'change_wins_nb': 74, 'initial_wins_proba': 0.26, 'change_wins_proba': 0.74}, 1000: {'nb_runs': 1000, 'initial_wins_nb': 356, 'change_wins_nb': 644, 'initial_wins_proba': 0.356, 'change_wins_proba': 0.644}, 10000: {'nb_runs': 10000, 'initial_wins_nb': 3361, 'change_wins_nb': 6639, 'initial_wins_proba': 0.3361, 'change_wins_proba': 0.6639}, 50000: {'nb_runs': 50000, 'initial_wins_nb': 16525, 'change_wins_nb': 33475, 'initial_wins_proba': 0.3305, 'change_wins_proba': 0.6695}, 100000: {'nb_runs': 100000, 'initial_wins_nb': 33440, 'change_wins_nb': 66560, 'initial_wins_proba': 0.3344, 'change_wins_proba': 0.6656}, 1000000: {'nb_runs': 1000000, 'initial_wins_nb': 333204, 'change_wins_nb': 666796, 'initial_wins_proba': 0.333204, 'change_wins_proba': 0.666796}}\n"
     ]
    }
   ],
   "source": [
    "## CORRECTION\n",
    "import pprint # beautifier for dict print\n",
    "runs = [10, 100, 1000, 10000, 50000, 100000, 1000000]\n",
    "res = {}\n",
    "for i in runs:\n",
    "    res_i = simulation_monty_hall(trials=i)\n",
    "    res[i] = {'nb_runs' : i, \n",
    "              'initial_wins_nb' : res_i['initial'],\n",
    "              'change_wins_nb' : res_i['change'],\n",
    "              'initial_wins_proba' : res_i['initial'] / i, \n",
    "              'change_wins_proba' : res_i['change'] / i\n",
    "             }\n",
    "pprint.pprint(res)"
   ]
  },
  {
   "cell_type": "markdown",
   "id": "32eef36d",
   "metadata": {},
   "source": [
    "**Conclusions / commentaires :** On voit bien que la probabilité de gagner en suivant la *stratégie 1* consistant à maintenir le choix initial est autour de 1/3, tandis que la probabilité de gagner en suivant la *stratégie 2* consistant à changer le choix initial est autour de 2/3. "
   ]
  },
  {
   "cell_type": "markdown",
   "id": "640b96e4",
   "metadata": {},
   "source": [
    "# Simulation des lois"
   ]
  },
  {
   "cell_type": "markdown",
   "id": "72f41d58",
   "metadata": {},
   "source": [
    "L'objectif de cette section est d'étudier comment les différents phénomènes aléatoires peuvent être simulés à partir de la distribution uniforme sur $[0, 1]$, $U \\sim \\mathcal{U}_{[0,1]}$. \n",
    "\n",
    "Afin de génerer un nombre à partir de la loi uniforme, nous pouvons nous servir de la fonction\n",
    "[`random.random()`](https://docs.python.org/3/library/random.html#random.random) ou [`random.uniform(a, b)`](https://docs.python.org/3/library/random.html#random.uniform), où $a$ et $b$ sont des bornes d'intervalle sur lequel la variable aléatoire est définie. "
   ]
  },
  {
   "cell_type": "code",
   "execution_count": 18,
   "id": "6599f256",
   "metadata": {
    "ExecuteTime": {
     "end_time": "2023-03-12T23:13:01.679703Z",
     "start_time": "2023-03-12T23:13:01.657634Z"
    }
   },
   "outputs": [],
   "source": [
    "# nombre pseudo-aléatoire réel de la loi uniforme sur [0, 1) et la loi uniforme\n",
    "from random import random, uniform"
   ]
  },
  {
   "cell_type": "code",
   "execution_count": 21,
   "id": "b211c7a5",
   "metadata": {
    "ExecuteTime": {
     "end_time": "2023-03-12T23:21:31.746072Z",
     "start_time": "2023-03-12T23:21:31.723159Z"
    }
   },
   "outputs": [
    {
     "name": "stdout",
     "output_type": "stream",
     "text": [
      "0.16231491283523836\n",
      "0.6136397853593146\n"
     ]
    }
   ],
   "source": [
    "# nombre aléatoire entre 0 et 1\n",
    "u1 = random()\n",
    "print(u1)\n",
    "u2 = uniform(a=0, b=1)\n",
    "print(u2)"
   ]
  },
  {
   "cell_type": "markdown",
   "id": "9fcdbf48",
   "metadata": {},
   "source": [
    "Nous allons considérer 2 cas : discrèt et continue."
   ]
  },
  {
   "cell_type": "markdown",
   "id": "7165f07f",
   "metadata": {},
   "source": [
    "## Lois discrètes"
   ]
  },
  {
   "cell_type": "markdown",
   "id": "84ff80b4",
   "metadata": {},
   "source": [
    "Soit $U \\sim \\mathcal{U}_{[0,1]}$, $X$ une v.a.r. discrète à valeurs $\\{x_1, x_2, ..., x_n\\}$ et $\\mathbb{P}(X = x_i) = p_i$, $\\sum_{i}p_i = 1$.\n",
    "\n",
    "Afin de simuler la distribution de $X$, nous divisons l'intervalle $[0, 1]$ en sous-intervalles tels que la longeur de sous-intervalle $i$ est $p_i$ :\n",
    "\n",
    "$$X = \\left\\{\\begin{array}{ll} x_0 & \\text{si } U < p_0 \\\\ \n",
    "x_1 & \\text{si } p_0 \\leq U < p_0 + p_1 \\\\  \n",
    "... \\\\\n",
    "x_j & \\text{si } \\sum_{k=0}^{j-1}p_k \\leq U < \\sum_{k=0}^{j}p_k \n",
    "\\end{array}\\right.$$\n",
    "\n",
    "Autrement dit :\n",
    "$$X = x_j \\text{ si } F(x_{j-1}) \\leq U < F(x_j)$$\n",
    "où $F(x)$ est la fonction de répartition de $X$.\n",
    "\n",
    "$$\\mathbb{P}(X=x_j) = \\mathbb{P}\\left(\\sum_{k=0}^{j_1}p_k \\leq U < \\sum_{k=0}^{j}p_k\\right) = p_j$$"
   ]
  },
  {
   "cell_type": "markdown",
   "id": "6e4fa99f",
   "metadata": {},
   "source": [
    "### Loi de Bernoulli"
   ]
  },
  {
   "cell_type": "markdown",
   "id": "6116dbfe",
   "metadata": {},
   "source": [
    "Soit $X$ une v.a.r. discrète qui suit la loi de Bernoulli avec le paramètre $p$, $\\mathcal{B}(p)$, e.g. un lancement d'une pièce. Alors, nous pouvons présenter la v.a.r. $X$ somme suit :\n",
    "\n",
    "$$X = \\left\\{\\begin{array}{ll} 1 & \\text{si } U < p \\\\ \n",
    "0 & \\text{si } U \\geq p\\end{array}\\right.$$\n",
    "\n",
    "Alors : \n",
    "$$\\mathbb{P}(succès) = \\mathbb{P}(X = 1) = \\mathbb{P}(U < p) = p$$\n",
    "\n",
    "Notons que dans ce cas-là, l'intervalle $[0, 1]$ est divisé en 2 partie : un de la langueur $p$ et l'autre de longueur $1-p$. La valeur de $X$ est alors définie par la condition dans quelle partie la valeur de $U$ tombe. \n",
    "\n",
    "Ecrivez la fonction `bernoulli(p)` qui calcule une valeur de $X$ qui suit la loi de Bernoulli avec le paramètre $p$.\n",
    "\n",
    "```\n",
    "def bernoulli(p=0.5):\n",
    "    \"\"\"\n",
    "    Simulation d'un Bernoulli avec le paramètre p.\n",
    "    \n",
    "    Keyword arguments:\n",
    "    p -- probabilité de succès. Par défaut, 0.5 \n",
    "    \n",
    "    Return:\n",
    "    valeur binaire de réalisation de la loi de Bernoulli\n",
    "    \"\"\"\n",
    "```"
   ]
  },
  {
   "cell_type": "code",
   "execution_count": 54,
   "id": "7a7126a5",
   "metadata": {
    "ExecuteTime": {
     "end_time": "2023-03-13T00:22:36.473872Z",
     "start_time": "2023-03-13T00:22:36.462902Z"
    }
   },
   "outputs": [],
   "source": [
    "## CORRECTION\n",
    "def bernoulli(p=0.5):\n",
    "    \"\"\"\n",
    "    Simulation d'un Bernoulli avec le paramètre p.\n",
    "    \n",
    "    Keyword arguments:\n",
    "    p -- probabilité de succès. Par défaut, 0.5 \n",
    "    \n",
    "    Return:\n",
    "    valeur binaire de réalisation de la loi de Bernoulli\n",
    "    \"\"\"\n",
    "    # réalisation d'une variable uniforme\n",
    "    u = random()\n",
    "    # succès si U < p \n",
    "    x = (u < p)\n",
    "    \n",
    "    return x "
   ]
  },
  {
   "cell_type": "markdown",
   "id": "00a05752",
   "metadata": {},
   "source": [
    "### Lancement d'une pièce"
   ]
  },
  {
   "cell_type": "markdown",
   "id": "b9a9ea07",
   "metadata": {},
   "source": [
    "Ecrivez une simulation de 1000 lancements d'une pièce équilibrée et tracer la probabilité estimée (proportion de nombre de piles) en fonction de nombre de lancements (de 0 jusqu'à 1000).\n",
    "\n",
    "```\n",
    "def coin_toss(nsimu=1000, p=0.5):\n",
    "    \"\"\"\n",
    "    Simulation de nsimu réalisation de Bernoulli (lancement d'une pièce) avec le paramètre p.\n",
    "    \n",
    "    \n",
    "    Keyword arguments:\n",
    "    nsimu -- nombre de simulations. Par défaut, 1000\n",
    "    p -- probabilité de succès. Par défaut, 0.5 \n",
    "    \n",
    "    Return:\n",
    "    le nombre cumulative de réussites en commençant avec 0 sur les 1000 runs et la proportion de réussites\n",
    "    \"\"\"\n",
    "```\n",
    "\n",
    "Afin de calculer le nombre de piles sur $i$ lancement, il est possible de calculer la somme comulative avec `numpy.cumsum()`."
   ]
  },
  {
   "cell_type": "code",
   "execution_count": 41,
   "id": "54fe2df3",
   "metadata": {
    "ExecuteTime": {
     "end_time": "2023-03-13T00:08:37.192678Z",
     "start_time": "2023-03-13T00:08:36.364019Z"
    }
   },
   "outputs": [],
   "source": [
    "import numpy as np # calculs numériques\n",
    "import matplotlib.pyplot as plt # graphiques"
   ]
  },
  {
   "cell_type": "code",
   "execution_count": 56,
   "id": "9b6af33e",
   "metadata": {
    "ExecuteTime": {
     "end_time": "2023-03-13T00:25:45.011378Z",
     "start_time": "2023-03-13T00:25:44.991431Z"
    }
   },
   "outputs": [],
   "source": [
    "## CORRECTION\n",
    "def coin_toss(nsimu=1000, p=0.5):\n",
    "    \"\"\"\n",
    "    Simulation de nsimu réalisation de Bernoulli (lancement d'une pièce) avec le paramètre p.\n",
    "    \n",
    "    \n",
    "    Keyword arguments:\n",
    "    nsimu -- nombre de simulations. Par défaut, 1000\n",
    "    p -- probabilité de succès. Par défaut, 0.5 \n",
    "    \n",
    "    Return:\n",
    "    le nombre cumulative de réussites en commençant avec 0 sur les 1000 runs et la proportion de réussites\n",
    "    \"\"\"\n",
    "    toss = np.array([0])\n",
    "    for i in range(1, nsimu+1):\n",
    "        x = bernoulli(p)\n",
    "        toss = np.append(toss, x)\n",
    "        \n",
    "        \n",
    "    cumsum_x = np.cumsum(toss)\n",
    "    ind = np.ones(nsimu+1)\n",
    "    cumsum_ind = np.cumsum(ind)\n",
    "    avg = cumsum_x / cumsum_ind\n",
    "    \n",
    "    return cumsum_x, avg\n",
    "\n",
    "p = 0.5\n",
    "cumsum_x, avg = coin_toss()"
   ]
  },
  {
   "cell_type": "code",
   "execution_count": 53,
   "id": "33696e6d",
   "metadata": {
    "ExecuteTime": {
     "end_time": "2023-03-13T00:17:47.475788Z",
     "start_time": "2023-03-13T00:17:47.339222Z"
    }
   },
   "outputs": [
    {
     "data": {
      "text/plain": [
       "<matplotlib.collections.LineCollection at 0x2a7376acb80>"
      ]
     },
     "execution_count": 53,
     "metadata": {},
     "output_type": "execute_result"
    },
    {
     "data": {
      "image/png": "[encoded data removed]",
      "text/plain": [
       "<Figure size 1000x500 with 1 Axes>"
      ]
     },
     "metadata": {},
     "output_type": "display_data"
    }
   ],
   "source": [
    "## CORRECTION\n",
    "# visualisation \n",
    "col = '#EF9A9A'\n",
    "fig, ax = plt.subplots(1, 1, figsize=(10, 5))\n",
    "plt.plot(range(0, 1001), avg)\n",
    "plt.title(\"Simulation de lancement d'une pièce équilibrée\")\n",
    "plt.xlabel(\"Nombre de lancements\")\n",
    "plt.ylabel(\"Proportion de piles\")\n",
    "ax.spines[\"top\"].set_visible(False)\n",
    "ax.spines[\"right\"].set_visible(False)\n",
    "ax.spines['bottom'].set_position('zero')\n",
    "ax.hlines(xmin=0, xmax=1000, y=p, linestyles=\"--\", color=col)"
   ]
  },
  {
   "cell_type": "markdown",
   "id": "0f1b9680",
   "metadata": {
    "ExecuteTime": {
     "end_time": "2023-03-13T00:26:54.438902Z",
     "start_time": "2023-03-13T00:26:54.423918Z"
    }
   },
   "source": [
    "**Conclusions / commentaires :** On remarque la convergence de simulation vers la valeur théorique."
   ]
  },
  {
   "cell_type": "markdown",
   "id": "bbe9ad4c",
   "metadata": {
    "ExecuteTime": {
     "end_time": "2023-03-13T00:28:45.059061Z",
     "start_time": "2023-03-13T00:28:45.037084Z"
    }
   },
   "source": [
    "## Lois continues : Loi Normale Centrée Réduite"
   ]
  },
  {
   "cell_type": "markdown",
   "id": "4a17655e",
   "metadata": {},
   "source": [
    "Parmi les lois continues, nous allons nous intéresser au cas de la loi normale centrée réduite, $\\mathcal{N}(0, 1)$ de la fonction de densité $\\varphi(z) = \\frac{e^{-\\frac{z^2}{2}}}{\\sqrt{2\\pi}}$. \n",
    "\n",
    "Dans le but de la simultation, nous allons étudier la [méthode de Box-Muller](https://fr.wikipedia.org/wiki/M%C3%A9thode_de_Box-Muller) : \n",
    "\n",
    "Soient $U_1$ et $U_2$ deux v.a.r. indépendentes qui suivent la loi uniforme. Alors une paire de v.a.r. $Z_1$ et $Z_2$ suivant la loi normale centrée réduite peut être généréé selon la transformation suivante :\n",
    "\n",
    "$$\\left\\{ \\begin{array}{l} Z_1 = \\sqrt{-2 \\ln{U_1}} \\cos(2\\pi U_2) \\\\ Z_2 = \\sqrt{-2 \\ln{U_1}} \\sin(2\\pi U_2) \\end{array} \\right.$$\n",
    "\n",
    "Ecrivez la fonction `loi_normale()` qui génère 2 v.a.r. qui suivent la loi normale centrée réduite avec la méthode de Box-Muller. \n",
    "\n",
    "```\n",
    "def loi_normale():\n",
    "    \"\"\"\n",
    "    Génère deux variables aléatoires suivant la loi normale centrée réduite avec la méthode de Box-Muller.\n",
    "    \n",
    "    Return:\n",
    "    z1, z2 -- deux v.a.r. de la loi normale centrée réduite\n",
    "    \"\"\"\n",
    "```\n",
    "\n",
    "Quelques astuces :\n",
    "- Afin de calculer la racine carré de $x$, nous pouvons utiliser la fonction `math.sqrt(x)`\n",
    "- Afin de calculer log de $x$, nous pouvons utiliser la fonction `math.log(x)`\n",
    "- Le nombre $\\pi$ peut être obtenu comme `math.pi`"
   ]
  },
  {
   "cell_type": "code",
   "execution_count": 60,
   "id": "4b53c355",
   "metadata": {
    "ExecuteTime": {
     "end_time": "2023-03-13T00:55:03.430518Z",
     "start_time": "2023-03-13T00:55:03.413564Z"
    }
   },
   "outputs": [],
   "source": [
    "import math"
   ]
  },
  {
   "cell_type": "code",
   "execution_count": 61,
   "id": "3d8e8dcb",
   "metadata": {
    "ExecuteTime": {
     "end_time": "2023-03-13T00:56:47.641483Z",
     "start_time": "2023-03-13T00:56:47.629532Z"
    }
   },
   "outputs": [],
   "source": [
    "## CORRECTION \n",
    "def loi_normale():\n",
    "    \"\"\"\n",
    "    Génère deux variables aléatoires suivant la loi normale centrée réduite avec la méthode de Box-Muller.\n",
    "    \n",
    "    Return:\n",
    "    z1, z2 -- deux v.a.r. de la loi normale centrée réduite\n",
    "    \"\"\"\n",
    "    u1 = random()\n",
    "    u2 = random()\n",
    "    z1 = math.sqrt(-2 * math.log(u1)) * math.cos(2 * math.pi * u2)\n",
    "    z2 = math.sqrt(-2 * math.log(u1)) * math.sin(2 * math.pi * u2)\n",
    "    \n",
    "    return z1, z2"
   ]
  },
  {
   "cell_type": "markdown",
   "id": "0fa684df",
   "metadata": {},
   "source": [
    "Générez 5000 paires de v.a.r. suivant la loi normale centrée réduite."
   ]
  },
  {
   "cell_type": "code",
   "execution_count": 62,
   "id": "bbe275d4",
   "metadata": {
    "ExecuteTime": {
     "end_time": "2023-03-13T01:06:24.263563Z",
     "start_time": "2023-03-13T01:06:24.175763Z"
    }
   },
   "outputs": [],
   "source": [
    "## CORRECTION\n",
    "z1 = np.array([])\n",
    "z2 = np.array([])\n",
    "n = 5000\n",
    "for i in range(n):\n",
    "    z1_i, z2_i = loi_normale()\n",
    "    z1 = np.append(z1, z1_i)\n",
    "    z2 = np.append(z2, z2_i)"
   ]
  },
  {
   "cell_type": "markdown",
   "id": "c7456965",
   "metadata": {},
   "source": [
    "Visualisez les variables $Z_1$ sous forme d'un histogramme. Tracez la courbe de la loi normale centrée réduite par dessus. Commentez.\n",
    "\n",
    "Quelques astuces :\n",
    "- Afin de créer un histogram, nous pouvons utilisez la fonction [`plt.hist()`](https://matplotlib.org/stable/api/_as_gen/matplotlib.pyplot.hist.html)\n",
    "- Pour que l'histogramme se base sur la fréquence, utilisez l'option `density=True` de `plt.hist()`, e.g. `plt.hist(z1, density=True)`\n",
    "- Avant de tracer la loi normale centrée résuite, vous pouvez créer des valeurs à tracer comme suit :"
   ]
  },
  {
   "cell_type": "code",
   "execution_count": 66,
   "id": "5c145915",
   "metadata": {
    "ExecuteTime": {
     "end_time": "2023-03-13T01:16:14.185177Z",
     "start_time": "2023-03-13T01:16:14.169220Z"
    }
   },
   "outputs": [],
   "source": [
    "from scipy.stats import norm # loi normale centrée réduite\n",
    "mu = 0\n",
    "variance = 1\n",
    "sigma = math.sqrt(variance)\n",
    "x = np.linspace(mu - 4*sigma, mu + 4*sigma, 100)\n",
    "y = norm.pdf(x, mu, sigma) # fonction de densité avec les params mu et sigma"
   ]
  },
  {
   "cell_type": "code",
   "execution_count": 73,
   "id": "6cf8e984",
   "metadata": {
    "ExecuteTime": {
     "end_time": "2023-03-13T01:20:01.817761Z",
     "start_time": "2023-03-13T01:20:01.650103Z"
    }
   },
   "outputs": [
    {
     "data": {
      "text/plain": [
       "<matplotlib.legend.Legend at 0x2a73aa859a0>"
      ]
     },
     "execution_count": 73,
     "metadata": {},
     "output_type": "execute_result"
    },
    {
     "data": {
      "image/png": "[encoded data removed]",
      "text/plain": [
       "<Figure size 1000x500 with 1 Axes>"
      ]
     },
     "metadata": {},
     "output_type": "display_data"
    }
   ],
   "source": [
    "## CORRECTION\n",
    "col = '#EF9A9A'\n",
    "fig, ax = plt.subplots(1, 1, figsize=(10, 5))\n",
    "plt.hist(z1, density=True, label=\"Simulation, n=5000\")\n",
    "plt.plot(x, y, label=r'Loi normale $N(0,1)$', color='#EF9A9A')\n",
    "\n",
    "\n",
    "ax.spines[\"top\"].set_visible(False)\n",
    "ax.spines[\"right\"].set_visible(False)\n",
    "ax.spines['left'].set_position('center')\n",
    "ax.spines['bottom'].set_position('zero')\n",
    "\n",
    "plt.legend()"
   ]
  },
  {
   "cell_type": "markdown",
   "id": "75f398d6",
   "metadata": {},
   "source": [
    "**Conclusions / commentaires :**"
   ]
  }
 ],
 "metadata": {
  "kernelspec": {
   "display_name": "Python 3 (ipykernel)",
   "language": "python",
   "name": "python3"
  },
  "language_info": {
   "codemirror_mode": {
    "name": "ipython",
    "version": 3
   },
   "file_extension": ".py",
   "mimetype": "text/x-python",
   "name": "python",
   "nbconvert_exporter": "python",
   "pygments_lexer": "ipython3",
   "version": "3.8.12"
  },
  "toc": {
   "base_numbering": 1,
   "nav_menu": {},
   "number_sections": true,
   "sideBar": true,
   "skip_h1_title": false,
   "title_cell": "Table of Contents",
   "title_sidebar": "Contents",
   "toc_cell": false,
   "toc_position": {},
   "toc_section_display": true,
   "toc_window_display": true
  }
 },
 "nbformat": 4,
 "nbformat_minor": 5
}
